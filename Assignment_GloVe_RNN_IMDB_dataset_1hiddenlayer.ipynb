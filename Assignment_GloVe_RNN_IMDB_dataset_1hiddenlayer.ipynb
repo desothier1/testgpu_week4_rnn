{
  "cells": [
    {
      "cell_type": "markdown",
      "source": [
        "#Classification with deep learning RNN"
      ],
      "metadata": {
        "id": "45cWG7x_YA4g"
      }
    },
    {
      "cell_type": "markdown",
      "source": [
        "##Load data"
      ],
      "metadata": {
        "id": "5e4gh05vYL5-"
      }
    },
    {
      "cell_type": "code",
      "source": [
        "import pandas as pd"
      ],
      "metadata": {
        "id": "fnX4ldytuFMi"
      },
      "execution_count": 1,
      "outputs": []
    },
    {
      "cell_type": "code",
      "source": [
        "df = pd.read_csv(\"IMDB Dataset.csv\", nrows = 25000)"
      ],
      "metadata": {
        "id": "RY9t66KUstaY"
      },
      "execution_count": 2,
      "outputs": []
    },
    {
      "cell_type": "code",
      "source": [
        "df.shape"
      ],
      "metadata": {
        "colab": {
          "base_uri": "https://localhost:8080/"
        },
        "id": "FVmSJaRUsttv",
        "outputId": "ca4093ac-6eaf-4684-c3af-3e34d5dab386"
      },
      "execution_count": 3,
      "outputs": [
        {
          "output_type": "execute_result",
          "data": {
            "text/plain": [
              "(25000, 2)"
            ]
          },
          "metadata": {},
          "execution_count": 3
        }
      ]
    },
    {
      "cell_type": "code",
      "source": [
        "df.head()"
      ],
      "metadata": {
        "colab": {
          "base_uri": "https://localhost:8080/",
          "height": 206
        },
        "id": "c-LLojoWsuBN",
        "outputId": "ecd27ec0-a886-4bbe-abb8-9380405b8758"
      },
      "execution_count": 4,
      "outputs": [
        {
          "output_type": "execute_result",
          "data": {
            "text/plain": [
              "                                              review sentiment\n",
              "0  One of the other reviewers has mentioned that ...  positive\n",
              "1  A wonderful little production. <br /><br />The...  positive\n",
              "2  I thought this was a wonderful way to spend ti...  positive\n",
              "3  Basically there's a family where a little boy ...  negative\n",
              "4  Petter Mattei's \"Love in the Time of Money\" is...  positive"
            ],
            "text/html": [
              "\n",
              "  <div id=\"df-df88c3b2-cbb2-4c6f-b2a5-b418ee2c491a\" class=\"colab-df-container\">\n",
              "    <div>\n",
              "<style scoped>\n",
              "    .dataframe tbody tr th:only-of-type {\n",
              "        vertical-align: middle;\n",
              "    }\n",
              "\n",
              "    .dataframe tbody tr th {\n",
              "        vertical-align: top;\n",
              "    }\n",
              "\n",
              "    .dataframe thead th {\n",
              "        text-align: right;\n",
              "    }\n",
              "</style>\n",
              "<table border=\"1\" class=\"dataframe\">\n",
              "  <thead>\n",
              "    <tr style=\"text-align: right;\">\n",
              "      <th></th>\n",
              "      <th>review</th>\n",
              "      <th>sentiment</th>\n",
              "    </tr>\n",
              "  </thead>\n",
              "  <tbody>\n",
              "    <tr>\n",
              "      <th>0</th>\n",
              "      <td>One of the other reviewers has mentioned that ...</td>\n",
              "      <td>positive</td>\n",
              "    </tr>\n",
              "    <tr>\n",
              "      <th>1</th>\n",
              "      <td>A wonderful little production. &lt;br /&gt;&lt;br /&gt;The...</td>\n",
              "      <td>positive</td>\n",
              "    </tr>\n",
              "    <tr>\n",
              "      <th>2</th>\n",
              "      <td>I thought this was a wonderful way to spend ti...</td>\n",
              "      <td>positive</td>\n",
              "    </tr>\n",
              "    <tr>\n",
              "      <th>3</th>\n",
              "      <td>Basically there's a family where a little boy ...</td>\n",
              "      <td>negative</td>\n",
              "    </tr>\n",
              "    <tr>\n",
              "      <th>4</th>\n",
              "      <td>Petter Mattei's \"Love in the Time of Money\" is...</td>\n",
              "      <td>positive</td>\n",
              "    </tr>\n",
              "  </tbody>\n",
              "</table>\n",
              "</div>\n",
              "    <div class=\"colab-df-buttons\">\n",
              "\n",
              "  <div class=\"colab-df-container\">\n",
              "    <button class=\"colab-df-convert\" onclick=\"convertToInteractive('df-df88c3b2-cbb2-4c6f-b2a5-b418ee2c491a')\"\n",
              "            title=\"Convert this dataframe to an interactive table.\"\n",
              "            style=\"display:none;\">\n",
              "\n",
              "  <svg xmlns=\"http://www.w3.org/2000/svg\" height=\"24px\" viewBox=\"0 -960 960 960\">\n",
              "    <path d=\"M120-120v-720h720v720H120Zm60-500h600v-160H180v160Zm220 220h160v-160H400v160Zm0 220h160v-160H400v160ZM180-400h160v-160H180v160Zm440 0h160v-160H620v160ZM180-180h160v-160H180v160Zm440 0h160v-160H620v160Z\"/>\n",
              "  </svg>\n",
              "    </button>\n",
              "\n",
              "  <style>\n",
              "    .colab-df-container {\n",
              "      display:flex;\n",
              "      gap: 12px;\n",
              "    }\n",
              "\n",
              "    .colab-df-convert {\n",
              "      background-color: #E8F0FE;\n",
              "      border: none;\n",
              "      border-radius: 50%;\n",
              "      cursor: pointer;\n",
              "      display: none;\n",
              "      fill: #1967D2;\n",
              "      height: 32px;\n",
              "      padding: 0 0 0 0;\n",
              "      width: 32px;\n",
              "    }\n",
              "\n",
              "    .colab-df-convert:hover {\n",
              "      background-color: #E2EBFA;\n",
              "      box-shadow: 0px 1px 2px rgba(60, 64, 67, 0.3), 0px 1px 3px 1px rgba(60, 64, 67, 0.15);\n",
              "      fill: #174EA6;\n",
              "    }\n",
              "\n",
              "    .colab-df-buttons div {\n",
              "      margin-bottom: 4px;\n",
              "    }\n",
              "\n",
              "    [theme=dark] .colab-df-convert {\n",
              "      background-color: #3B4455;\n",
              "      fill: #D2E3FC;\n",
              "    }\n",
              "\n",
              "    [theme=dark] .colab-df-convert:hover {\n",
              "      background-color: #434B5C;\n",
              "      box-shadow: 0px 1px 3px 1px rgba(0, 0, 0, 0.15);\n",
              "      filter: drop-shadow(0px 1px 2px rgba(0, 0, 0, 0.3));\n",
              "      fill: #FFFFFF;\n",
              "    }\n",
              "  </style>\n",
              "\n",
              "    <script>\n",
              "      const buttonEl =\n",
              "        document.querySelector('#df-df88c3b2-cbb2-4c6f-b2a5-b418ee2c491a button.colab-df-convert');\n",
              "      buttonEl.style.display =\n",
              "        google.colab.kernel.accessAllowed ? 'block' : 'none';\n",
              "\n",
              "      async function convertToInteractive(key) {\n",
              "        const element = document.querySelector('#df-df88c3b2-cbb2-4c6f-b2a5-b418ee2c491a');\n",
              "        const dataTable =\n",
              "          await google.colab.kernel.invokeFunction('convertToInteractive',\n",
              "                                                    [key], {});\n",
              "        if (!dataTable) return;\n",
              "\n",
              "        const docLinkHtml = 'Like what you see? Visit the ' +\n",
              "          '<a target=\"_blank\" href=https://colab.research.google.com/notebooks/data_table.ipynb>data table notebook</a>'\n",
              "          + ' to learn more about interactive tables.';\n",
              "        element.innerHTML = '';\n",
              "        dataTable['output_type'] = 'display_data';\n",
              "        await google.colab.output.renderOutput(dataTable, element);\n",
              "        const docLink = document.createElement('div');\n",
              "        docLink.innerHTML = docLinkHtml;\n",
              "        element.appendChild(docLink);\n",
              "      }\n",
              "    </script>\n",
              "  </div>\n",
              "\n",
              "\n",
              "<div id=\"df-2c720982-d68b-4a8f-8a74-d7d77b7bea35\">\n",
              "  <button class=\"colab-df-quickchart\" onclick=\"quickchart('df-2c720982-d68b-4a8f-8a74-d7d77b7bea35')\"\n",
              "            title=\"Suggest charts\"\n",
              "            style=\"display:none;\">\n",
              "\n",
              "<svg xmlns=\"http://www.w3.org/2000/svg\" height=\"24px\"viewBox=\"0 0 24 24\"\n",
              "     width=\"24px\">\n",
              "    <g>\n",
              "        <path d=\"M19 3H5c-1.1 0-2 .9-2 2v14c0 1.1.9 2 2 2h14c1.1 0 2-.9 2-2V5c0-1.1-.9-2-2-2zM9 17H7v-7h2v7zm4 0h-2V7h2v10zm4 0h-2v-4h2v4z\"/>\n",
              "    </g>\n",
              "</svg>\n",
              "  </button>\n",
              "\n",
              "<style>\n",
              "  .colab-df-quickchart {\n",
              "      --bg-color: #E8F0FE;\n",
              "      --fill-color: #1967D2;\n",
              "      --hover-bg-color: #E2EBFA;\n",
              "      --hover-fill-color: #174EA6;\n",
              "      --disabled-fill-color: #AAA;\n",
              "      --disabled-bg-color: #DDD;\n",
              "  }\n",
              "\n",
              "  [theme=dark] .colab-df-quickchart {\n",
              "      --bg-color: #3B4455;\n",
              "      --fill-color: #D2E3FC;\n",
              "      --hover-bg-color: #434B5C;\n",
              "      --hover-fill-color: #FFFFFF;\n",
              "      --disabled-bg-color: #3B4455;\n",
              "      --disabled-fill-color: #666;\n",
              "  }\n",
              "\n",
              "  .colab-df-quickchart {\n",
              "    background-color: var(--bg-color);\n",
              "    border: none;\n",
              "    border-radius: 50%;\n",
              "    cursor: pointer;\n",
              "    display: none;\n",
              "    fill: var(--fill-color);\n",
              "    height: 32px;\n",
              "    padding: 0;\n",
              "    width: 32px;\n",
              "  }\n",
              "\n",
              "  .colab-df-quickchart:hover {\n",
              "    background-color: var(--hover-bg-color);\n",
              "    box-shadow: 0 1px 2px rgba(60, 64, 67, 0.3), 0 1px 3px 1px rgba(60, 64, 67, 0.15);\n",
              "    fill: var(--button-hover-fill-color);\n",
              "  }\n",
              "\n",
              "  .colab-df-quickchart-complete:disabled,\n",
              "  .colab-df-quickchart-complete:disabled:hover {\n",
              "    background-color: var(--disabled-bg-color);\n",
              "    fill: var(--disabled-fill-color);\n",
              "    box-shadow: none;\n",
              "  }\n",
              "\n",
              "  .colab-df-spinner {\n",
              "    border: 2px solid var(--fill-color);\n",
              "    border-color: transparent;\n",
              "    border-bottom-color: var(--fill-color);\n",
              "    animation:\n",
              "      spin 1s steps(1) infinite;\n",
              "  }\n",
              "\n",
              "  @keyframes spin {\n",
              "    0% {\n",
              "      border-color: transparent;\n",
              "      border-bottom-color: var(--fill-color);\n",
              "      border-left-color: var(--fill-color);\n",
              "    }\n",
              "    20% {\n",
              "      border-color: transparent;\n",
              "      border-left-color: var(--fill-color);\n",
              "      border-top-color: var(--fill-color);\n",
              "    }\n",
              "    30% {\n",
              "      border-color: transparent;\n",
              "      border-left-color: var(--fill-color);\n",
              "      border-top-color: var(--fill-color);\n",
              "      border-right-color: var(--fill-color);\n",
              "    }\n",
              "    40% {\n",
              "      border-color: transparent;\n",
              "      border-right-color: var(--fill-color);\n",
              "      border-top-color: var(--fill-color);\n",
              "    }\n",
              "    60% {\n",
              "      border-color: transparent;\n",
              "      border-right-color: var(--fill-color);\n",
              "    }\n",
              "    80% {\n",
              "      border-color: transparent;\n",
              "      border-right-color: var(--fill-color);\n",
              "      border-bottom-color: var(--fill-color);\n",
              "    }\n",
              "    90% {\n",
              "      border-color: transparent;\n",
              "      border-bottom-color: var(--fill-color);\n",
              "    }\n",
              "  }\n",
              "</style>\n",
              "\n",
              "  <script>\n",
              "    async function quickchart(key) {\n",
              "      const quickchartButtonEl =\n",
              "        document.querySelector('#' + key + ' button');\n",
              "      quickchartButtonEl.disabled = true;  // To prevent multiple clicks.\n",
              "      quickchartButtonEl.classList.add('colab-df-spinner');\n",
              "      try {\n",
              "        const charts = await google.colab.kernel.invokeFunction(\n",
              "            'suggestCharts', [key], {});\n",
              "      } catch (error) {\n",
              "        console.error('Error during call to suggestCharts:', error);\n",
              "      }\n",
              "      quickchartButtonEl.classList.remove('colab-df-spinner');\n",
              "      quickchartButtonEl.classList.add('colab-df-quickchart-complete');\n",
              "    }\n",
              "    (() => {\n",
              "      let quickchartButtonEl =\n",
              "        document.querySelector('#df-2c720982-d68b-4a8f-8a74-d7d77b7bea35 button');\n",
              "      quickchartButtonEl.style.display =\n",
              "        google.colab.kernel.accessAllowed ? 'block' : 'none';\n",
              "    })();\n",
              "  </script>\n",
              "</div>\n",
              "\n",
              "    </div>\n",
              "  </div>\n"
            ],
            "application/vnd.google.colaboratory.intrinsic+json": {
              "type": "dataframe",
              "variable_name": "df",
              "summary": "{\n  \"name\": \"df\",\n  \"rows\": 25000,\n  \"fields\": [\n    {\n      \"column\": \"review\",\n      \"properties\": {\n        \"dtype\": \"string\",\n        \"num_unique_values\": 24897,\n        \"samples\": [\n          \"There is an awful lot wrong with this picture, beginning with a script that is both obvious and redundant. Courtney Cox plays a comic book artist who escapes to a small desert town after being raped twice in the big city. She immediately is stalked by a local who appears quite unhinged (Craig Sheffer), and who seems to be attempting a third rate Mickey Rourke imitation. D.B. Sweeny is a local cop, who is supposedly there to protect and serve. Meanwhile, the script manipulates the audience as to who's really the good guy? Logic flies out the window after the first ten minutes and never returns, and there are more unanswered questions than there should be. If you think \\\"Blue Desert\\\" might be saved by the wonderful Philip Baker Hall, you will be disappointed. His part is insignificant, just like the entire movie. - MERK\",\n          \"This movie was SO stupid~!!! I could not bare to watch the rest of this movie..... To think that the spoiled bitch suggested to see other people, then walks right into another relationship 5 minutes after the agreement was made.... I really felt sorry for the guy, but then again, for a guy like that to even consider letting his fianc\\u00e9 see other people, to go along with her grand idea, well, I'm sorry but, he deserved what he got~! And she was definitely not the best fish in the sea either, he can do way, way, way better.... She had no tits.... to hips.... no nothing~! And you had to have known that she wanted this right from the start... 5 years~??? How on earth did they last that long~???\",\n          \"An art student in Rome is possessed...or something. She has dreams of being nailed to a cross and Satan himself raping her. He possesses her (I think) and turns her into a sex addict. That's about all I could take and I turned it off.<br /><br />A pointless \\\"Exorcist\\\" rip off. I caught this on cable back in the 80s and was horrified...and not in a good way! This movie is supposed to be a horror film but turns into nothing more than a sex film disguised as a horror movie. There's tons of pointless female nudity and the actress playing the lead has to degrade herself more than once. We see her being raped by Satan (a hot-looking guy), masturbating, coming on to her own father...Gotta give her points for bravery. Add to that bad dubbing, editing (the rape scene looks like it was cut a bit), lousy acting and a story that makes next to no sense. The one disturbing sequence (her being nailed to the cross) ALMOST works but the lousy \\\"special\\\" effects ruin it. This is one of the few horror film that was so bad I stopped watching. Skip it.\"\n        ],\n        \"semantic_type\": \"\",\n        \"description\": \"\"\n      }\n    },\n    {\n      \"column\": \"sentiment\",\n      \"properties\": {\n        \"dtype\": \"category\",\n        \"num_unique_values\": 2,\n        \"samples\": [\n          \"negative\",\n          \"positive\"\n        ],\n        \"semantic_type\": \"\",\n        \"description\": \"\"\n      }\n    }\n  ]\n}"
            }
          },
          "metadata": {},
          "execution_count": 4
        }
      ]
    },
    {
      "cell_type": "code",
      "source": [
        "#HTML tags\n",
        "import re\n",
        "def remove_html_tags(reviews):\n",
        "    return re.sub(r'<[^<]+?>', '', reviews)\n",
        "\n",
        "df['review'] = df['review'].apply(remove_html_tags)"
      ],
      "metadata": {
        "id": "O0TDtaD_suUu"
      },
      "execution_count": 5,
      "outputs": []
    },
    {
      "cell_type": "code",
      "source": [
        "#HTTP\n",
        "\n",
        "def remove_url(text):\n",
        "    return re.sub(r'http[s]?://\\S+|www\\.\\S+', '', text)\n",
        "df['review'] = df['review'].apply(remove_url)"
      ],
      "metadata": {
        "id": "eFqsxY1Usuyp"
      },
      "execution_count": 6,
      "outputs": []
    },
    {
      "cell_type": "code",
      "source": [
        "#to lower case\n",
        "def to_lower(text):\n",
        "  return  text.lower()\n",
        "df['review'] = df['review'].apply(to_lower)"
      ],
      "metadata": {
        "id": "JTvXQHQGtOd3"
      },
      "execution_count": 7,
      "outputs": []
    },
    {
      "cell_type": "code",
      "source": [
        "df.head()"
      ],
      "metadata": {
        "colab": {
          "base_uri": "https://localhost:8080/",
          "height": 206
        },
        "id": "WNU2gDrCtOwj",
        "outputId": "69d614cf-8e24-453e-e0dc-38beada197a7"
      },
      "execution_count": 8,
      "outputs": [
        {
          "output_type": "execute_result",
          "data": {
            "text/plain": [
              "                                              review sentiment\n",
              "0  one of the other reviewers has mentioned that ...  positive\n",
              "1  a wonderful little production. the filming tec...  positive\n",
              "2  i thought this was a wonderful way to spend ti...  positive\n",
              "3  basically there's a family where a little boy ...  negative\n",
              "4  petter mattei's \"love in the time of money\" is...  positive"
            ],
            "text/html": [
              "\n",
              "  <div id=\"df-0cce857f-5108-427c-98ee-2794adc26a36\" class=\"colab-df-container\">\n",
              "    <div>\n",
              "<style scoped>\n",
              "    .dataframe tbody tr th:only-of-type {\n",
              "        vertical-align: middle;\n",
              "    }\n",
              "\n",
              "    .dataframe tbody tr th {\n",
              "        vertical-align: top;\n",
              "    }\n",
              "\n",
              "    .dataframe thead th {\n",
              "        text-align: right;\n",
              "    }\n",
              "</style>\n",
              "<table border=\"1\" class=\"dataframe\">\n",
              "  <thead>\n",
              "    <tr style=\"text-align: right;\">\n",
              "      <th></th>\n",
              "      <th>review</th>\n",
              "      <th>sentiment</th>\n",
              "    </tr>\n",
              "  </thead>\n",
              "  <tbody>\n",
              "    <tr>\n",
              "      <th>0</th>\n",
              "      <td>one of the other reviewers has mentioned that ...</td>\n",
              "      <td>positive</td>\n",
              "    </tr>\n",
              "    <tr>\n",
              "      <th>1</th>\n",
              "      <td>a wonderful little production. the filming tec...</td>\n",
              "      <td>positive</td>\n",
              "    </tr>\n",
              "    <tr>\n",
              "      <th>2</th>\n",
              "      <td>i thought this was a wonderful way to spend ti...</td>\n",
              "      <td>positive</td>\n",
              "    </tr>\n",
              "    <tr>\n",
              "      <th>3</th>\n",
              "      <td>basically there's a family where a little boy ...</td>\n",
              "      <td>negative</td>\n",
              "    </tr>\n",
              "    <tr>\n",
              "      <th>4</th>\n",
              "      <td>petter mattei's \"love in the time of money\" is...</td>\n",
              "      <td>positive</td>\n",
              "    </tr>\n",
              "  </tbody>\n",
              "</table>\n",
              "</div>\n",
              "    <div class=\"colab-df-buttons\">\n",
              "\n",
              "  <div class=\"colab-df-container\">\n",
              "    <button class=\"colab-df-convert\" onclick=\"convertToInteractive('df-0cce857f-5108-427c-98ee-2794adc26a36')\"\n",
              "            title=\"Convert this dataframe to an interactive table.\"\n",
              "            style=\"display:none;\">\n",
              "\n",
              "  <svg xmlns=\"http://www.w3.org/2000/svg\" height=\"24px\" viewBox=\"0 -960 960 960\">\n",
              "    <path d=\"M120-120v-720h720v720H120Zm60-500h600v-160H180v160Zm220 220h160v-160H400v160Zm0 220h160v-160H400v160ZM180-400h160v-160H180v160Zm440 0h160v-160H620v160ZM180-180h160v-160H180v160Zm440 0h160v-160H620v160Z\"/>\n",
              "  </svg>\n",
              "    </button>\n",
              "\n",
              "  <style>\n",
              "    .colab-df-container {\n",
              "      display:flex;\n",
              "      gap: 12px;\n",
              "    }\n",
              "\n",
              "    .colab-df-convert {\n",
              "      background-color: #E8F0FE;\n",
              "      border: none;\n",
              "      border-radius: 50%;\n",
              "      cursor: pointer;\n",
              "      display: none;\n",
              "      fill: #1967D2;\n",
              "      height: 32px;\n",
              "      padding: 0 0 0 0;\n",
              "      width: 32px;\n",
              "    }\n",
              "\n",
              "    .colab-df-convert:hover {\n",
              "      background-color: #E2EBFA;\n",
              "      box-shadow: 0px 1px 2px rgba(60, 64, 67, 0.3), 0px 1px 3px 1px rgba(60, 64, 67, 0.15);\n",
              "      fill: #174EA6;\n",
              "    }\n",
              "\n",
              "    .colab-df-buttons div {\n",
              "      margin-bottom: 4px;\n",
              "    }\n",
              "\n",
              "    [theme=dark] .colab-df-convert {\n",
              "      background-color: #3B4455;\n",
              "      fill: #D2E3FC;\n",
              "    }\n",
              "\n",
              "    [theme=dark] .colab-df-convert:hover {\n",
              "      background-color: #434B5C;\n",
              "      box-shadow: 0px 1px 3px 1px rgba(0, 0, 0, 0.15);\n",
              "      filter: drop-shadow(0px 1px 2px rgba(0, 0, 0, 0.3));\n",
              "      fill: #FFFFFF;\n",
              "    }\n",
              "  </style>\n",
              "\n",
              "    <script>\n",
              "      const buttonEl =\n",
              "        document.querySelector('#df-0cce857f-5108-427c-98ee-2794adc26a36 button.colab-df-convert');\n",
              "      buttonEl.style.display =\n",
              "        google.colab.kernel.accessAllowed ? 'block' : 'none';\n",
              "\n",
              "      async function convertToInteractive(key) {\n",
              "        const element = document.querySelector('#df-0cce857f-5108-427c-98ee-2794adc26a36');\n",
              "        const dataTable =\n",
              "          await google.colab.kernel.invokeFunction('convertToInteractive',\n",
              "                                                    [key], {});\n",
              "        if (!dataTable) return;\n",
              "\n",
              "        const docLinkHtml = 'Like what you see? Visit the ' +\n",
              "          '<a target=\"_blank\" href=https://colab.research.google.com/notebooks/data_table.ipynb>data table notebook</a>'\n",
              "          + ' to learn more about interactive tables.';\n",
              "        element.innerHTML = '';\n",
              "        dataTable['output_type'] = 'display_data';\n",
              "        await google.colab.output.renderOutput(dataTable, element);\n",
              "        const docLink = document.createElement('div');\n",
              "        docLink.innerHTML = docLinkHtml;\n",
              "        element.appendChild(docLink);\n",
              "      }\n",
              "    </script>\n",
              "  </div>\n",
              "\n",
              "\n",
              "<div id=\"df-190f6991-b50d-402b-8487-425876bf7156\">\n",
              "  <button class=\"colab-df-quickchart\" onclick=\"quickchart('df-190f6991-b50d-402b-8487-425876bf7156')\"\n",
              "            title=\"Suggest charts\"\n",
              "            style=\"display:none;\">\n",
              "\n",
              "<svg xmlns=\"http://www.w3.org/2000/svg\" height=\"24px\"viewBox=\"0 0 24 24\"\n",
              "     width=\"24px\">\n",
              "    <g>\n",
              "        <path d=\"M19 3H5c-1.1 0-2 .9-2 2v14c0 1.1.9 2 2 2h14c1.1 0 2-.9 2-2V5c0-1.1-.9-2-2-2zM9 17H7v-7h2v7zm4 0h-2V7h2v10zm4 0h-2v-4h2v4z\"/>\n",
              "    </g>\n",
              "</svg>\n",
              "  </button>\n",
              "\n",
              "<style>\n",
              "  .colab-df-quickchart {\n",
              "      --bg-color: #E8F0FE;\n",
              "      --fill-color: #1967D2;\n",
              "      --hover-bg-color: #E2EBFA;\n",
              "      --hover-fill-color: #174EA6;\n",
              "      --disabled-fill-color: #AAA;\n",
              "      --disabled-bg-color: #DDD;\n",
              "  }\n",
              "\n",
              "  [theme=dark] .colab-df-quickchart {\n",
              "      --bg-color: #3B4455;\n",
              "      --fill-color: #D2E3FC;\n",
              "      --hover-bg-color: #434B5C;\n",
              "      --hover-fill-color: #FFFFFF;\n",
              "      --disabled-bg-color: #3B4455;\n",
              "      --disabled-fill-color: #666;\n",
              "  }\n",
              "\n",
              "  .colab-df-quickchart {\n",
              "    background-color: var(--bg-color);\n",
              "    border: none;\n",
              "    border-radius: 50%;\n",
              "    cursor: pointer;\n",
              "    display: none;\n",
              "    fill: var(--fill-color);\n",
              "    height: 32px;\n",
              "    padding: 0;\n",
              "    width: 32px;\n",
              "  }\n",
              "\n",
              "  .colab-df-quickchart:hover {\n",
              "    background-color: var(--hover-bg-color);\n",
              "    box-shadow: 0 1px 2px rgba(60, 64, 67, 0.3), 0 1px 3px 1px rgba(60, 64, 67, 0.15);\n",
              "    fill: var(--button-hover-fill-color);\n",
              "  }\n",
              "\n",
              "  .colab-df-quickchart-complete:disabled,\n",
              "  .colab-df-quickchart-complete:disabled:hover {\n",
              "    background-color: var(--disabled-bg-color);\n",
              "    fill: var(--disabled-fill-color);\n",
              "    box-shadow: none;\n",
              "  }\n",
              "\n",
              "  .colab-df-spinner {\n",
              "    border: 2px solid var(--fill-color);\n",
              "    border-color: transparent;\n",
              "    border-bottom-color: var(--fill-color);\n",
              "    animation:\n",
              "      spin 1s steps(1) infinite;\n",
              "  }\n",
              "\n",
              "  @keyframes spin {\n",
              "    0% {\n",
              "      border-color: transparent;\n",
              "      border-bottom-color: var(--fill-color);\n",
              "      border-left-color: var(--fill-color);\n",
              "    }\n",
              "    20% {\n",
              "      border-color: transparent;\n",
              "      border-left-color: var(--fill-color);\n",
              "      border-top-color: var(--fill-color);\n",
              "    }\n",
              "    30% {\n",
              "      border-color: transparent;\n",
              "      border-left-color: var(--fill-color);\n",
              "      border-top-color: var(--fill-color);\n",
              "      border-right-color: var(--fill-color);\n",
              "    }\n",
              "    40% {\n",
              "      border-color: transparent;\n",
              "      border-right-color: var(--fill-color);\n",
              "      border-top-color: var(--fill-color);\n",
              "    }\n",
              "    60% {\n",
              "      border-color: transparent;\n",
              "      border-right-color: var(--fill-color);\n",
              "    }\n",
              "    80% {\n",
              "      border-color: transparent;\n",
              "      border-right-color: var(--fill-color);\n",
              "      border-bottom-color: var(--fill-color);\n",
              "    }\n",
              "    90% {\n",
              "      border-color: transparent;\n",
              "      border-bottom-color: var(--fill-color);\n",
              "    }\n",
              "  }\n",
              "</style>\n",
              "\n",
              "  <script>\n",
              "    async function quickchart(key) {\n",
              "      const quickchartButtonEl =\n",
              "        document.querySelector('#' + key + ' button');\n",
              "      quickchartButtonEl.disabled = true;  // To prevent multiple clicks.\n",
              "      quickchartButtonEl.classList.add('colab-df-spinner');\n",
              "      try {\n",
              "        const charts = await google.colab.kernel.invokeFunction(\n",
              "            'suggestCharts', [key], {});\n",
              "      } catch (error) {\n",
              "        console.error('Error during call to suggestCharts:', error);\n",
              "      }\n",
              "      quickchartButtonEl.classList.remove('colab-df-spinner');\n",
              "      quickchartButtonEl.classList.add('colab-df-quickchart-complete');\n",
              "    }\n",
              "    (() => {\n",
              "      let quickchartButtonEl =\n",
              "        document.querySelector('#df-190f6991-b50d-402b-8487-425876bf7156 button');\n",
              "      quickchartButtonEl.style.display =\n",
              "        google.colab.kernel.accessAllowed ? 'block' : 'none';\n",
              "    })();\n",
              "  </script>\n",
              "</div>\n",
              "\n",
              "    </div>\n",
              "  </div>\n"
            ],
            "application/vnd.google.colaboratory.intrinsic+json": {
              "type": "dataframe",
              "variable_name": "df",
              "summary": "{\n  \"name\": \"df\",\n  \"rows\": 25000,\n  \"fields\": [\n    {\n      \"column\": \"review\",\n      \"properties\": {\n        \"dtype\": \"string\",\n        \"num_unique_values\": 24897,\n        \"samples\": [\n          \"there is an awful lot wrong with this picture, beginning with a script that is both obvious and redundant. courtney cox plays a comic book artist who escapes to a small desert town after being raped twice in the big city. she immediately is stalked by a local who appears quite unhinged (craig sheffer), and who seems to be attempting a third rate mickey rourke imitation. d.b. sweeny is a local cop, who is supposedly there to protect and serve. meanwhile, the script manipulates the audience as to who's really the good guy? logic flies out the window after the first ten minutes and never returns, and there are more unanswered questions than there should be. if you think \\\"blue desert\\\" might be saved by the wonderful philip baker hall, you will be disappointed. his part is insignificant, just like the entire movie. - merk\",\n          \"this movie was so stupid~!!! i could not bare to watch the rest of this movie..... to think that the spoiled bitch suggested to see other people, then walks right into another relationship 5 minutes after the agreement was made.... i really felt sorry for the guy, but then again, for a guy like that to even consider letting his fianc\\u00e9 see other people, to go along with her grand idea, well, i'm sorry but, he deserved what he got~! and she was definitely not the best fish in the sea either, he can do way, way, way better.... she had no tits.... to hips.... no nothing~! and you had to have known that she wanted this right from the start... 5 years~??? how on earth did they last that long~???\",\n          \"an art student in rome is possessed...or something. she has dreams of being nailed to a cross and satan himself raping her. he possesses her (i think) and turns her into a sex addict. that's about all i could take and i turned it off.a pointless \\\"exorcist\\\" rip off. i caught this on cable back in the 80s and was horrified...and not in a good way! this movie is supposed to be a horror film but turns into nothing more than a sex film disguised as a horror movie. there's tons of pointless female nudity and the actress playing the lead has to degrade herself more than once. we see her being raped by satan (a hot-looking guy), masturbating, coming on to her own father...gotta give her points for bravery. add to that bad dubbing, editing (the rape scene looks like it was cut a bit), lousy acting and a story that makes next to no sense. the one disturbing sequence (her being nailed to the cross) almost works but the lousy \\\"special\\\" effects ruin it. this is one of the few horror film that was so bad i stopped watching. skip it.\"\n        ],\n        \"semantic_type\": \"\",\n        \"description\": \"\"\n      }\n    },\n    {\n      \"column\": \"sentiment\",\n      \"properties\": {\n        \"dtype\": \"category\",\n        \"num_unique_values\": 2,\n        \"samples\": [\n          \"negative\",\n          \"positive\"\n        ],\n        \"semantic_type\": \"\",\n        \"description\": \"\"\n      }\n    }\n  ]\n}"
            }
          },
          "metadata": {},
          "execution_count": 8
        }
      ]
    },
    {
      "cell_type": "code",
      "source": [
        "#DIY (Do it yourself)\n",
        "\"\"\"\n",
        "# Initialize lists to store reviews and labels\n",
        "reviews = ???\n",
        "labels = ???\n",
        "\n",
        "# Display some examples to verify\n",
        "print(\"Sample reviews:\", reviews[:2])\n",
        "print(\"Sample labels:\", labels[:2])\n",
        "\"\"\""
      ],
      "metadata": {
        "id": "NaN-emCI5SfD",
        "colab": {
          "base_uri": "https://localhost:8080/",
          "height": 52
        },
        "outputId": "627b2b5a-161e-4d9b-e72b-6c2f275e4dee"
      },
      "execution_count": 9,
      "outputs": [
        {
          "output_type": "execute_result",
          "data": {
            "text/plain": [
              "'\\n# Initialize lists to store reviews and labels\\nreviews = ???\\nlabels = ???\\n\\n# Display some examples to verify\\nprint(\"Sample reviews:\", reviews[:2])\\nprint(\"Sample labels:\", labels[:2])\\n'"
            ],
            "application/vnd.google.colaboratory.intrinsic+json": {
              "type": "string"
            }
          },
          "metadata": {},
          "execution_count": 9
        }
      ]
    },
    {
      "cell_type": "code",
      "source": [
        "#SOLUTION\n",
        "# Initialize lists to store reviews and labels\n",
        "reviews = df['review'].tolist()\n",
        "labels = df['sentiment'].tolist()\n",
        "\n",
        "# Display some examples to verify\n",
        "print(\"Sample reviews:\", reviews[:2])\n",
        "print(\"Sample labels:\", labels[:2])\n"
      ],
      "metadata": {
        "colab": {
          "base_uri": "https://localhost:8080/"
        },
        "id": "cHP_W98m5pzY",
        "outputId": "493e4135-26d9-431a-e069-b01a1570c484"
      },
      "execution_count": 10,
      "outputs": [
        {
          "output_type": "stream",
          "name": "stdout",
          "text": [
            "Sample reviews: [\"one of the other reviewers has mentioned that after watching just 1 oz episode you'll be hooked. they are right, as this is exactly what happened with me.the first thing that struck me about oz was its brutality and unflinching scenes of violence, which set in right from the word go. trust me, this is not a show for the faint hearted or timid. this show pulls no punches with regards to drugs, sex or violence. its is hardcore, in the classic use of the word.it is called oz as that is the nickname given to the oswald maximum security state penitentary. it focuses mainly on emerald city, an experimental section of the prison where all the cells have glass fronts and face inwards, so privacy is not high on the agenda. em city is home to many..aryans, muslims, gangstas, latinos, christians, italians, irish and more....so scuffles, death stares, dodgy dealings and shady agreements are never far away.i would say the main appeal of the show is due to the fact that it goes where other shows wouldn't dare. forget pretty pictures painted for mainstream audiences, forget charm, forget romance...oz doesn't mess around. the first episode i ever saw struck me as so nasty it was surreal, i couldn't say i was ready for it, but as i watched more, i developed a taste for oz, and got accustomed to the high levels of graphic violence. not just violence, but injustice (crooked guards who'll be sold out for a nickel, inmates who'll kill on order and get away with it, well mannered, middle class inmates being turned into prison bitches due to their lack of street skills or prison experience) watching oz, you may become comfortable with what is uncomfortable viewing....thats if you can get in touch with your darker side.\", 'a wonderful little production. the filming technique is very unassuming- very old-time-bbc fashion and gives a comforting, and sometimes discomforting, sense of realism to the entire piece. the actors are extremely well chosen- michael sheen not only \"has got all the polari\" but he has all the voices down pat too! you can truly see the seamless editing guided by the references to williams\\' diary entries, not only is it well worth the watching but it is a terrificly written and performed piece. a masterful production about one of the great master\\'s of comedy and his life. the realism really comes home with the little things: the fantasy of the guard which, rather than use the traditional \\'dream\\' techniques remains solid then disappears. it plays on our knowledge and our senses, particularly with the scenes concerning orton and halliwell and the sets (particularly of their flat with halliwell\\'s murals decorating every surface) are terribly well done.']\n",
            "Sample labels: ['positive', 'positive']\n"
          ]
        }
      ]
    },
    {
      "cell_type": "code",
      "execution_count": 11,
      "metadata": {
        "id": "IYjd12MvZm6d"
      },
      "outputs": [],
      "source": [
        "import warnings\n",
        "warnings.filterwarnings(\"ignore\")"
      ]
    },
    {
      "cell_type": "code",
      "source": [],
      "metadata": {
        "id": "Ar8SqoHijTlp"
      },
      "execution_count": 11,
      "outputs": []
    },
    {
      "cell_type": "code",
      "source": [
        "import nltk\n",
        "from nltk.tokenize import sent_tokenize"
      ],
      "metadata": {
        "id": "IgLSxboTk8cn"
      },
      "execution_count": 12,
      "outputs": []
    },
    {
      "cell_type": "code",
      "execution_count": 13,
      "metadata": {
        "id": "OwTW8McUZm6f",
        "colab": {
          "base_uri": "https://localhost:8080/",
          "height": 157
        },
        "outputId": "cf4a849f-40bd-4fda-a81b-8210e95ef44e"
      },
      "outputs": [
        {
          "output_type": "execute_result",
          "data": {
            "text/plain": [
              "\"one of the other reviewers has mentioned that after watching just 1 oz episode you'll be hooked. they are right, as this is exactly what happened with me.the first thing that struck me about oz was its brutality and unflinching scenes of violence, which set in right from the word go. trust me, this is not a show for the faint hearted or timid. this show pulls no punches with regards to drugs, sex or violence. its is hardcore, in the classic use of the word.it is called oz as that is the nickname given to the oswald maximum security state penitentary. it focuses mainly on emerald city, an experimental section of the prison where all the cells have glass fronts and face inwards, so privacy is not high on the agenda. em city is home to many..aryans, muslims, gangstas, latinos, christians, italians, irish and more....so scuffles, death stares, dodgy dealings and shady agreements are never far away.i would say the main appeal of the show is due to the fact that it goes where other shows wouldn't dare. forget pretty pictures painted for mainstream audiences, forget charm, forget romance...oz doesn't mess around. the first episode i ever saw struck me as so nasty it was surreal, i couldn't say i was ready for it, but as i watched more, i developed a taste for oz, and got accustomed to the high levels of graphic violence. not just violence, but injustice (crooked guards who'll be sold out for a nickel, inmates who'll kill on order and get away with it, well mannered, middle class inmates being turned into prison bitches due to their lack of street skills or prison experience) watching oz, you may become comfortable with what is uncomfortable viewing....thats if you can get in touch with your darker side.\""
            ],
            "application/vnd.google.colaboratory.intrinsic+json": {
              "type": "string"
            }
          },
          "metadata": {},
          "execution_count": 13
        }
      ],
      "source": [
        "reviews[0]"
      ]
    },
    {
      "cell_type": "code",
      "source": [
        "labels[0]"
      ],
      "metadata": {
        "colab": {
          "base_uri": "https://localhost:8080/",
          "height": 35
        },
        "id": "aCNopTrmwz0F",
        "outputId": "9e625487-579c-4ce8-df9c-a79fe5da849e"
      },
      "execution_count": 14,
      "outputs": [
        {
          "output_type": "execute_result",
          "data": {
            "text/plain": [
              "'positive'"
            ],
            "application/vnd.google.colaboratory.intrinsic+json": {
              "type": "string"
            }
          },
          "metadata": {},
          "execution_count": 14
        }
      ]
    },
    {
      "cell_type": "markdown",
      "source": [
        "## Tokenize using NLTK"
      ],
      "metadata": {
        "id": "1K9nS39KYPjU"
      }
    },
    {
      "cell_type": "code",
      "source": [
        "from nltk.tokenize import RegexpTokenizer\n",
        "tokenizer = RegexpTokenizer(\"\\w+\")"
      ],
      "metadata": {
        "id": "3o86gE5Kh70U"
      },
      "execution_count": 15,
      "outputs": []
    },
    {
      "cell_type": "code",
      "source": [
        "tokenizer.tokenize(\"I didn't like to read that book.\")"
      ],
      "metadata": {
        "colab": {
          "base_uri": "https://localhost:8080/"
        },
        "id": "XP7i9vO8h_Ti",
        "outputId": "8084ff66-dbed-425c-d126-befa756476ce"
      },
      "execution_count": 16,
      "outputs": [
        {
          "output_type": "execute_result",
          "data": {
            "text/plain": [
              "['I', 'didn', 't', 'like', 'to', 'read', 'that', 'book']"
            ]
          },
          "metadata": {},
          "execution_count": 16
        }
      ]
    },
    {
      "cell_type": "code",
      "source": [
        "tokenizer.tokenize(reviews[10])"
      ],
      "metadata": {
        "colab": {
          "base_uri": "https://localhost:8080/"
        },
        "id": "rtn9PSYIxOi7",
        "outputId": "6208c7f2-2000-4975-ec27-d17ca755005b"
      },
      "execution_count": 17,
      "outputs": [
        {
          "output_type": "execute_result",
          "data": {
            "text/plain": [
              "['phil',\n",
              " 'the',\n",
              " 'alien',\n",
              " 'is',\n",
              " 'one',\n",
              " 'of',\n",
              " 'those',\n",
              " 'quirky',\n",
              " 'films',\n",
              " 'where',\n",
              " 'the',\n",
              " 'humour',\n",
              " 'is',\n",
              " 'based',\n",
              " 'around',\n",
              " 'the',\n",
              " 'oddness',\n",
              " 'of',\n",
              " 'everything',\n",
              " 'rather',\n",
              " 'than',\n",
              " 'actual',\n",
              " 'punchlines',\n",
              " 'at',\n",
              " 'first',\n",
              " 'it',\n",
              " 'was',\n",
              " 'very',\n",
              " 'odd',\n",
              " 'and',\n",
              " 'pretty',\n",
              " 'funny',\n",
              " 'but',\n",
              " 'as',\n",
              " 'the',\n",
              " 'movie',\n",
              " 'progressed',\n",
              " 'i',\n",
              " 'didn',\n",
              " 't',\n",
              " 'find',\n",
              " 'the',\n",
              " 'jokes',\n",
              " 'or',\n",
              " 'oddness',\n",
              " 'funny',\n",
              " 'anymore',\n",
              " 'its',\n",
              " 'a',\n",
              " 'low',\n",
              " 'budget',\n",
              " 'film',\n",
              " 'thats',\n",
              " 'never',\n",
              " 'a',\n",
              " 'problem',\n",
              " 'in',\n",
              " 'itself',\n",
              " 'there',\n",
              " 'were',\n",
              " 'some',\n",
              " 'pretty',\n",
              " 'interesting',\n",
              " 'characters',\n",
              " 'but',\n",
              " 'eventually',\n",
              " 'i',\n",
              " 'just',\n",
              " 'lost',\n",
              " 'interest',\n",
              " 'i',\n",
              " 'imagine',\n",
              " 'this',\n",
              " 'film',\n",
              " 'would',\n",
              " 'appeal',\n",
              " 'to',\n",
              " 'a',\n",
              " 'stoner',\n",
              " 'who',\n",
              " 'is',\n",
              " 'currently',\n",
              " 'partaking',\n",
              " 'for',\n",
              " 'something',\n",
              " 'similar',\n",
              " 'but',\n",
              " 'better',\n",
              " 'try',\n",
              " 'brother',\n",
              " 'from',\n",
              " 'another',\n",
              " 'planet']"
            ]
          },
          "metadata": {},
          "execution_count": 17
        }
      ]
    },
    {
      "cell_type": "markdown",
      "source": [
        "We do not want didn't to be split into did 'nt. Adapt the regular expression in cell below"
      ],
      "metadata": {
        "id": "T9HsIvXA54Yj"
      }
    },
    {
      "cell_type": "code",
      "source": [
        "#DIY\n",
        "\"\"\"\n",
        "from nltk.tokenize import RegexpTokenizer\n",
        "tokenizer = RegexpTokenizer(\"???)\n",
        "\"\"\""
      ],
      "metadata": {
        "id": "v7WdIeRz6Ngt",
        "colab": {
          "base_uri": "https://localhost:8080/",
          "height": 35
        },
        "outputId": "873f9d8c-da87-4da6-e05d-82506a3666f5"
      },
      "execution_count": 18,
      "outputs": [
        {
          "output_type": "execute_result",
          "data": {
            "text/plain": [
              "'\\nfrom nltk.tokenize import RegexpTokenizer\\ntokenizer = RegexpTokenizer(\"???)\\n'"
            ],
            "application/vnd.google.colaboratory.intrinsic+json": {
              "type": "string"
            }
          },
          "metadata": {},
          "execution_count": 18
        }
      ]
    },
    {
      "cell_type": "code",
      "source": [
        "#SOLUTION\n",
        "from nltk.tokenize import RegexpTokenizer\n",
        "tokenizer = RegexpTokenizer(\"\\w+\\'?\\w+|\\w+\")"
      ],
      "metadata": {
        "id": "qxj9lYsv6W6W"
      },
      "execution_count": 19,
      "outputs": []
    },
    {
      "cell_type": "code",
      "execution_count": 19,
      "metadata": {
        "id": "dW1qGH5wZm6g"
      },
      "outputs": [],
      "source": []
    },
    {
      "cell_type": "code",
      "source": [
        "tokenizer.tokenize(\"I didn't like to read that book.\")"
      ],
      "metadata": {
        "colab": {
          "base_uri": "https://localhost:8080/"
        },
        "id": "JxQsqHc922gD",
        "outputId": "9dea7d7b-997b-4229-bf8f-b5bce648a58c"
      },
      "execution_count": 20,
      "outputs": [
        {
          "output_type": "execute_result",
          "data": {
            "text/plain": [
              "['I', \"didn't\", 'like', 'to', 'read', 'that', 'book']"
            ]
          },
          "metadata": {},
          "execution_count": 20
        }
      ]
    },
    {
      "cell_type": "code",
      "source": [
        "tokenizer.tokenize(reviews[10])"
      ],
      "metadata": {
        "colab": {
          "base_uri": "https://localhost:8080/"
        },
        "id": "hpQ89D4g3JyO",
        "outputId": "893931e8-e813-4506-98c9-52011df4d7d1"
      },
      "execution_count": 21,
      "outputs": [
        {
          "output_type": "execute_result",
          "data": {
            "text/plain": [
              "['phil',\n",
              " 'the',\n",
              " 'alien',\n",
              " 'is',\n",
              " 'one',\n",
              " 'of',\n",
              " 'those',\n",
              " 'quirky',\n",
              " 'films',\n",
              " 'where',\n",
              " 'the',\n",
              " 'humour',\n",
              " 'is',\n",
              " 'based',\n",
              " 'around',\n",
              " 'the',\n",
              " 'oddness',\n",
              " 'of',\n",
              " 'everything',\n",
              " 'rather',\n",
              " 'than',\n",
              " 'actual',\n",
              " 'punchlines',\n",
              " 'at',\n",
              " 'first',\n",
              " 'it',\n",
              " 'was',\n",
              " 'very',\n",
              " 'odd',\n",
              " 'and',\n",
              " 'pretty',\n",
              " 'funny',\n",
              " 'but',\n",
              " 'as',\n",
              " 'the',\n",
              " 'movie',\n",
              " 'progressed',\n",
              " 'i',\n",
              " \"didn't\",\n",
              " 'find',\n",
              " 'the',\n",
              " 'jokes',\n",
              " 'or',\n",
              " 'oddness',\n",
              " 'funny',\n",
              " 'anymore',\n",
              " 'its',\n",
              " 'a',\n",
              " 'low',\n",
              " 'budget',\n",
              " 'film',\n",
              " 'thats',\n",
              " 'never',\n",
              " 'a',\n",
              " 'problem',\n",
              " 'in',\n",
              " 'itself',\n",
              " 'there',\n",
              " 'were',\n",
              " 'some',\n",
              " 'pretty',\n",
              " 'interesting',\n",
              " 'characters',\n",
              " 'but',\n",
              " 'eventually',\n",
              " 'i',\n",
              " 'just',\n",
              " 'lost',\n",
              " 'interest',\n",
              " 'i',\n",
              " 'imagine',\n",
              " 'this',\n",
              " 'film',\n",
              " 'would',\n",
              " 'appeal',\n",
              " 'to',\n",
              " 'a',\n",
              " 'stoner',\n",
              " 'who',\n",
              " 'is',\n",
              " 'currently',\n",
              " 'partaking',\n",
              " 'for',\n",
              " 'something',\n",
              " 'similar',\n",
              " 'but',\n",
              " 'better',\n",
              " 'try',\n",
              " 'brother',\n",
              " 'from',\n",
              " 'another',\n",
              " 'planet']"
            ]
          },
          "metadata": {},
          "execution_count": 21
        }
      ]
    },
    {
      "cell_type": "code",
      "execution_count": 22,
      "metadata": {
        "colab": {
          "base_uri": "https://localhost:8080/"
        },
        "id": "KnyLE-5LZm6h",
        "outputId": "fd3a9911-45b8-4cfa-bac5-46b85088023e"
      },
      "outputs": [
        {
          "output_type": "stream",
          "name": "stdout",
          "text": [
            "['i', 'me', 'my', 'myself', 'we', 'our', 'ours', 'ourselves', 'you', \"you're\", \"you've\", \"you'll\", \"you'd\", 'your', 'yours', 'yourself', 'yourselves', 'he', 'him', 'his', 'himself', 'she', \"she's\", 'her', 'hers', 'herself', 'it', \"it's\", 'its', 'itself', 'they', 'them', 'their', 'theirs', 'themselves', 'what', 'which', 'who', 'whom', 'this', 'that', \"that'll\", 'these', 'those', 'am', 'is', 'are', 'was', 'were', 'be', 'been', 'being', 'have', 'has', 'had', 'having', 'do', 'does', 'did', 'doing', 'a', 'an', 'the', 'and', 'but', 'if', 'or', 'because', 'as', 'until', 'while', 'of', 'at', 'by', 'for', 'with', 'about', 'against', 'between', 'into', 'through', 'during', 'before', 'after', 'above', 'below', 'to', 'from', 'up', 'down', 'in', 'out', 'on', 'off', 'over', 'under', 'again', 'further', 'then', 'once', 'here', 'there', 'when', 'where', 'why', 'how', 'all', 'any', 'both', 'each', 'few', 'more', 'most', 'other', 'some', 'such', 'no', 'nor', 'not', 'only', 'own', 'same', 'so', 'than', 'too', 'very', 's', 't', 'can', 'will', 'just', 'don', \"don't\", 'should', \"should've\", 'now', 'd', 'll', 'm', 'o', 're', 've', 'y', 'ain', 'aren', \"aren't\", 'couldn', \"couldn't\", 'didn', \"didn't\", 'doesn', \"doesn't\", 'hadn', \"hadn't\", 'hasn', \"hasn't\", 'haven', \"haven't\", 'isn', \"isn't\", 'ma', 'mightn', \"mightn't\", 'mustn', \"mustn't\", 'needn', \"needn't\", 'shan', \"shan't\", 'shouldn', \"shouldn't\", 'wasn', \"wasn't\", 'weren', \"weren't\", 'won', \"won't\", 'wouldn', \"wouldn't\"]\n"
          ]
        },
        {
          "output_type": "stream",
          "name": "stderr",
          "text": [
            "[nltk_data] Downloading package stopwords to /root/nltk_data...\n",
            "[nltk_data]   Unzipping corpora/stopwords.zip.\n"
          ]
        }
      ],
      "source": [
        "import nltk\n",
        "from nltk.corpus import stopwords\n",
        "nltk.download('stopwords')\n",
        "stop_words = stopwords.words('english')\n",
        "print(stop_words)"
      ]
    },
    {
      "cell_type": "markdown",
      "source": [
        "##Stopwords using NLTK and SpaCy"
      ],
      "metadata": {
        "id": "zYNlQEvtYW4j"
      }
    },
    {
      "cell_type": "code",
      "execution_count": 23,
      "metadata": {
        "id": "JOfUpRByZm6h"
      },
      "outputs": [],
      "source": [
        "from spacy.lang.en.stop_words import STOP_WORDS"
      ]
    },
    {
      "cell_type": "code",
      "execution_count": 24,
      "metadata": {
        "id": "T2zNAc6cZm6h"
      },
      "outputs": [],
      "source": [
        "exceptionStopWords = {\n",
        "    'again',\n",
        "    'against',\n",
        "    'ain',\n",
        "    'almost',\n",
        "    'among',\n",
        "    'amongst',\n",
        "    'amount',\n",
        "    'anyhow',\n",
        "    'anyway',\n",
        "    'aren',\n",
        "    \"aren't\",\n",
        "    'below',\n",
        "    'bottom',\n",
        "    'but',\n",
        "    'cannot',\n",
        "    'couldn',\n",
        "    \"couldn't\",\n",
        "    'didn',\n",
        "    \"didn't\",\n",
        "    'doesn',\n",
        "    \"doesn't\",\n",
        "    'don',\n",
        "    \"don't\",\n",
        "    'done',\n",
        "    'down',\n",
        "    'except',\n",
        "    'few',\n",
        "    'hadn',\n",
        "    \"hadn't\",\n",
        "    'hasn',\n",
        "    \"hasn't\",\n",
        "    'haven',\n",
        "    \"haven't\",\n",
        "    'however',\n",
        "    'isn',\n",
        "    \"isn't\",\n",
        "    'least',\n",
        "    'mightn',\n",
        "    \"mightn't\",\n",
        "    'move',\n",
        "    'much',\n",
        "    'must',\n",
        "    'mustn',\n",
        "    \"mustn't\",\n",
        "    'needn',\n",
        "    \"needn't\",\n",
        "    'neither',\n",
        "    'never',\n",
        "    'nevertheless',\n",
        "    'no',\n",
        "    'nobody',\n",
        "    'none',\n",
        "    'noone',\n",
        "    'nor',\n",
        "    'not',\n",
        "    'nothing',\n",
        "    'should',\n",
        "    \"should've\",\n",
        "    'shouldn',\n",
        "    \"shouldn't\",\n",
        "    'too',\n",
        "    'top',\n",
        "    'up',\n",
        "    'very'\n",
        "    'wasn',\n",
        "    \"wasn't\",\n",
        "    'well',\n",
        "    'weren',\n",
        "    \"weren't\",\n",
        "    'won',\n",
        "    \"won't\",\n",
        "    'wouldn',\n",
        "    \"wouldn't\",\n",
        "}"
      ]
    },
    {
      "cell_type": "code",
      "execution_count": 25,
      "metadata": {
        "id": "QZIX5n5tZm6i"
      },
      "outputs": [],
      "source": [
        "stop_words = set(stop_words).union(STOP_WORDS)"
      ]
    },
    {
      "cell_type": "markdown",
      "source": [
        "Remove exception words from stopwords"
      ],
      "metadata": {
        "id": "hbyylAzp9sdn"
      }
    },
    {
      "cell_type": "code",
      "source": [
        "#DIY\n",
        "\"\"\"\n",
        "final_stop_words = ???\n",
        "\"\"\""
      ],
      "metadata": {
        "id": "TjlhKIbY9n1T",
        "colab": {
          "base_uri": "https://localhost:8080/",
          "height": 35
        },
        "outputId": "6ab341f4-1ca5-4b1d-9dd1-eed83d537ff8"
      },
      "execution_count": 26,
      "outputs": [
        {
          "output_type": "execute_result",
          "data": {
            "text/plain": [
              "'\\nfinal_stop_words = ???\\n'"
            ],
            "application/vnd.google.colaboratory.intrinsic+json": {
              "type": "string"
            }
          },
          "metadata": {},
          "execution_count": 26
        }
      ]
    },
    {
      "cell_type": "code",
      "execution_count": 27,
      "metadata": {
        "id": "H_i9RWtiZm6i"
      },
      "outputs": [],
      "source": [
        "#SOLUTION\n",
        "final_stop_words = stop_words-exceptionStopWords"
      ]
    },
    {
      "cell_type": "code",
      "execution_count": 28,
      "metadata": {
        "id": "Ifx3cC1KZm6j"
      },
      "outputs": [],
      "source": [
        "import spacy\n",
        "\n",
        "nlp = spacy.load(\"en_core_web_sm\")"
      ]
    },
    {
      "cell_type": "code",
      "execution_count": 29,
      "metadata": {
        "id": "z1EcL38rZm6j"
      },
      "outputs": [],
      "source": [
        "def make_token(review):\n",
        "    return tokenizer.tokenize(str(review))"
      ]
    },
    {
      "cell_type": "code",
      "source": [],
      "metadata": {
        "id": "95RDfW-Dyo_A"
      },
      "execution_count": 29,
      "outputs": []
    },
    {
      "cell_type": "code",
      "source": [
        "make_token(reviews[0])"
      ],
      "metadata": {
        "colab": {
          "base_uri": "https://localhost:8080/"
        },
        "id": "u4h_IYt_x7OW",
        "outputId": "ef16fea5-f5a6-4814-dbe9-df022478d569"
      },
      "execution_count": 30,
      "outputs": [
        {
          "output_type": "execute_result",
          "data": {
            "text/plain": [
              "['one',\n",
              " 'of',\n",
              " 'the',\n",
              " 'other',\n",
              " 'reviewers',\n",
              " 'has',\n",
              " 'mentioned',\n",
              " 'that',\n",
              " 'after',\n",
              " 'watching',\n",
              " 'just',\n",
              " '1',\n",
              " 'oz',\n",
              " 'episode',\n",
              " \"you'll\",\n",
              " 'be',\n",
              " 'hooked',\n",
              " 'they',\n",
              " 'are',\n",
              " 'right',\n",
              " 'as',\n",
              " 'this',\n",
              " 'is',\n",
              " 'exactly',\n",
              " 'what',\n",
              " 'happened',\n",
              " 'with',\n",
              " 'me',\n",
              " 'the',\n",
              " 'first',\n",
              " 'thing',\n",
              " 'that',\n",
              " 'struck',\n",
              " 'me',\n",
              " 'about',\n",
              " 'oz',\n",
              " 'was',\n",
              " 'its',\n",
              " 'brutality',\n",
              " 'and',\n",
              " 'unflinching',\n",
              " 'scenes',\n",
              " 'of',\n",
              " 'violence',\n",
              " 'which',\n",
              " 'set',\n",
              " 'in',\n",
              " 'right',\n",
              " 'from',\n",
              " 'the',\n",
              " 'word',\n",
              " 'go',\n",
              " 'trust',\n",
              " 'me',\n",
              " 'this',\n",
              " 'is',\n",
              " 'not',\n",
              " 'a',\n",
              " 'show',\n",
              " 'for',\n",
              " 'the',\n",
              " 'faint',\n",
              " 'hearted',\n",
              " 'or',\n",
              " 'timid',\n",
              " 'this',\n",
              " 'show',\n",
              " 'pulls',\n",
              " 'no',\n",
              " 'punches',\n",
              " 'with',\n",
              " 'regards',\n",
              " 'to',\n",
              " 'drugs',\n",
              " 'sex',\n",
              " 'or',\n",
              " 'violence',\n",
              " 'its',\n",
              " 'is',\n",
              " 'hardcore',\n",
              " 'in',\n",
              " 'the',\n",
              " 'classic',\n",
              " 'use',\n",
              " 'of',\n",
              " 'the',\n",
              " 'word',\n",
              " 'it',\n",
              " 'is',\n",
              " 'called',\n",
              " 'oz',\n",
              " 'as',\n",
              " 'that',\n",
              " 'is',\n",
              " 'the',\n",
              " 'nickname',\n",
              " 'given',\n",
              " 'to',\n",
              " 'the',\n",
              " 'oswald',\n",
              " 'maximum',\n",
              " 'security',\n",
              " 'state',\n",
              " 'penitentary',\n",
              " 'it',\n",
              " 'focuses',\n",
              " 'mainly',\n",
              " 'on',\n",
              " 'emerald',\n",
              " 'city',\n",
              " 'an',\n",
              " 'experimental',\n",
              " 'section',\n",
              " 'of',\n",
              " 'the',\n",
              " 'prison',\n",
              " 'where',\n",
              " 'all',\n",
              " 'the',\n",
              " 'cells',\n",
              " 'have',\n",
              " 'glass',\n",
              " 'fronts',\n",
              " 'and',\n",
              " 'face',\n",
              " 'inwards',\n",
              " 'so',\n",
              " 'privacy',\n",
              " 'is',\n",
              " 'not',\n",
              " 'high',\n",
              " 'on',\n",
              " 'the',\n",
              " 'agenda',\n",
              " 'em',\n",
              " 'city',\n",
              " 'is',\n",
              " 'home',\n",
              " 'to',\n",
              " 'many',\n",
              " 'aryans',\n",
              " 'muslims',\n",
              " 'gangstas',\n",
              " 'latinos',\n",
              " 'christians',\n",
              " 'italians',\n",
              " 'irish',\n",
              " 'and',\n",
              " 'more',\n",
              " 'so',\n",
              " 'scuffles',\n",
              " 'death',\n",
              " 'stares',\n",
              " 'dodgy',\n",
              " 'dealings',\n",
              " 'and',\n",
              " 'shady',\n",
              " 'agreements',\n",
              " 'are',\n",
              " 'never',\n",
              " 'far',\n",
              " 'away',\n",
              " 'i',\n",
              " 'would',\n",
              " 'say',\n",
              " 'the',\n",
              " 'main',\n",
              " 'appeal',\n",
              " 'of',\n",
              " 'the',\n",
              " 'show',\n",
              " 'is',\n",
              " 'due',\n",
              " 'to',\n",
              " 'the',\n",
              " 'fact',\n",
              " 'that',\n",
              " 'it',\n",
              " 'goes',\n",
              " 'where',\n",
              " 'other',\n",
              " 'shows',\n",
              " \"wouldn't\",\n",
              " 'dare',\n",
              " 'forget',\n",
              " 'pretty',\n",
              " 'pictures',\n",
              " 'painted',\n",
              " 'for',\n",
              " 'mainstream',\n",
              " 'audiences',\n",
              " 'forget',\n",
              " 'charm',\n",
              " 'forget',\n",
              " 'romance',\n",
              " 'oz',\n",
              " \"doesn't\",\n",
              " 'mess',\n",
              " 'around',\n",
              " 'the',\n",
              " 'first',\n",
              " 'episode',\n",
              " 'i',\n",
              " 'ever',\n",
              " 'saw',\n",
              " 'struck',\n",
              " 'me',\n",
              " 'as',\n",
              " 'so',\n",
              " 'nasty',\n",
              " 'it',\n",
              " 'was',\n",
              " 'surreal',\n",
              " 'i',\n",
              " \"couldn't\",\n",
              " 'say',\n",
              " 'i',\n",
              " 'was',\n",
              " 'ready',\n",
              " 'for',\n",
              " 'it',\n",
              " 'but',\n",
              " 'as',\n",
              " 'i',\n",
              " 'watched',\n",
              " 'more',\n",
              " 'i',\n",
              " 'developed',\n",
              " 'a',\n",
              " 'taste',\n",
              " 'for',\n",
              " 'oz',\n",
              " 'and',\n",
              " 'got',\n",
              " 'accustomed',\n",
              " 'to',\n",
              " 'the',\n",
              " 'high',\n",
              " 'levels',\n",
              " 'of',\n",
              " 'graphic',\n",
              " 'violence',\n",
              " 'not',\n",
              " 'just',\n",
              " 'violence',\n",
              " 'but',\n",
              " 'injustice',\n",
              " 'crooked',\n",
              " 'guards',\n",
              " \"who'll\",\n",
              " 'be',\n",
              " 'sold',\n",
              " 'out',\n",
              " 'for',\n",
              " 'a',\n",
              " 'nickel',\n",
              " 'inmates',\n",
              " \"who'll\",\n",
              " 'kill',\n",
              " 'on',\n",
              " 'order',\n",
              " 'and',\n",
              " 'get',\n",
              " 'away',\n",
              " 'with',\n",
              " 'it',\n",
              " 'well',\n",
              " 'mannered',\n",
              " 'middle',\n",
              " 'class',\n",
              " 'inmates',\n",
              " 'being',\n",
              " 'turned',\n",
              " 'into',\n",
              " 'prison',\n",
              " 'bitches',\n",
              " 'due',\n",
              " 'to',\n",
              " 'their',\n",
              " 'lack',\n",
              " 'of',\n",
              " 'street',\n",
              " 'skills',\n",
              " 'or',\n",
              " 'prison',\n",
              " 'experience',\n",
              " 'watching',\n",
              " 'oz',\n",
              " 'you',\n",
              " 'may',\n",
              " 'become',\n",
              " 'comfortable',\n",
              " 'with',\n",
              " 'what',\n",
              " 'is',\n",
              " 'uncomfortable',\n",
              " 'viewing',\n",
              " 'thats',\n",
              " 'if',\n",
              " 'you',\n",
              " 'can',\n",
              " 'get',\n",
              " 'in',\n",
              " 'touch',\n",
              " 'with',\n",
              " 'your',\n",
              " 'darker',\n",
              " 'side']"
            ]
          },
          "metadata": {},
          "execution_count": 30
        }
      ]
    },
    {
      "cell_type": "markdown",
      "source": [
        "Remove stopwords from tokens in the reviews"
      ],
      "metadata": {
        "id": "aoDJwrpsBkTB"
      }
    },
    {
      "cell_type": "code",
      "source": [
        "#DIY\n",
        "\"\"\"\n",
        "def remove_stopwords(review):\n",
        "    return [token for token ???]\n",
        "\"\"\""
      ],
      "metadata": {
        "id": "8cwtrPLMBWBh",
        "colab": {
          "base_uri": "https://localhost:8080/",
          "height": 35
        },
        "outputId": "9fcca204-8591-4672-e9af-ec6659c32324"
      },
      "execution_count": 31,
      "outputs": [
        {
          "output_type": "execute_result",
          "data": {
            "text/plain": [
              "'\\ndef remove_stopwords(review):\\n    return [token for token ???]\\n'"
            ],
            "application/vnd.google.colaboratory.intrinsic+json": {
              "type": "string"
            }
          },
          "metadata": {},
          "execution_count": 31
        }
      ]
    },
    {
      "cell_type": "code",
      "execution_count": 32,
      "metadata": {
        "id": "Z4upjlsKZm6j"
      },
      "outputs": [],
      "source": [
        "#SOLUTION\n",
        "def remove_stopwords(review):\n",
        "    return [token for token in review if token not in final_stop_words]"
      ]
    },
    {
      "cell_type": "code",
      "source": [
        "type(reviews[0])"
      ],
      "metadata": {
        "colab": {
          "base_uri": "https://localhost:8080/"
        },
        "id": "IT-kr12AyIAq",
        "outputId": "490ca6e2-6451-4f8d-f56b-82b19d381a22"
      },
      "execution_count": 33,
      "outputs": [
        {
          "output_type": "execute_result",
          "data": {
            "text/plain": [
              "str"
            ]
          },
          "metadata": {},
          "execution_count": 33
        }
      ]
    },
    {
      "cell_type": "markdown",
      "source": [
        "## Lemmatization using SpaCy\n",
        "\n",
        "Lemmatize token input and append it to lemma_result list"
      ],
      "metadata": {
        "id": "JOxfyZIeYfzU"
      }
    },
    {
      "cell_type": "code",
      "source": [
        "#DIY\n",
        "# Load the large English model\n",
        "#nlp = spacy.load('en_core_web_lg')\n",
        "\"\"\"\n",
        "def lemmatization(review):\n",
        "    lemma_result = []\n",
        "\n",
        "    # Join the list of words into a single string\n",
        "    #\n",
        "    review_text = ' '.join(review)\n",
        "\n",
        "    # Process the text\n",
        "    doc = nlp(review_text)\n",
        "\n",
        "    # Extract lemmas, and append to lemma_result list\n",
        "    for token in doc:\n",
        "        ???\n",
        "\n",
        "    return lemma_result\n",
        "\"\"\""
      ],
      "metadata": {
        "id": "ihzeZjCmjojB",
        "colab": {
          "base_uri": "https://localhost:8080/",
          "height": 70
        },
        "outputId": "ff05145b-e608-4c95-82cf-7cb49d4ca45e"
      },
      "execution_count": 34,
      "outputs": [
        {
          "output_type": "execute_result",
          "data": {
            "text/plain": [
              "\"\\ndef lemmatization(review):\\n    lemma_result = []\\n\\n    # Join the list of words into a single string\\n    #\\n    review_text = ' '.join(review)\\n\\n    # Process the text\\n    doc = nlp(review_text)\\n\\n    # Extract lemmas, and append to lemma_result list\\n    for token in doc:\\n        ???\\n\\n    return lemma_result\\n\""
            ],
            "application/vnd.google.colaboratory.intrinsic+json": {
              "type": "string"
            }
          },
          "metadata": {},
          "execution_count": 34
        }
      ]
    },
    {
      "cell_type": "code",
      "execution_count": 35,
      "metadata": {
        "id": "i5EiHMFZZm6k"
      },
      "outputs": [],
      "source": [
        "#SOLUTION\n",
        "\n",
        "\n",
        "def lemmatization(review):\n",
        "    lemma_result = []\n",
        "\n",
        "    # Join the list of words into a single string\n",
        "    #\n",
        "    review_text = ' '.join(review)\n",
        "\n",
        "    # Process the text\n",
        "    doc = nlp(review_text)\n",
        "\n",
        "    # Extract lemmas\n",
        "    for token in doc:\n",
        "        lemma_result.append(token.lemma_)\n",
        "\n",
        "    return lemma_result"
      ]
    },
    {
      "cell_type": "markdown",
      "source": [
        "##Pipeline for tokenization and lemmatization\n",
        "\n",
        "Make a pipeline function for tokenization, stopword removal and lemmatization"
      ],
      "metadata": {
        "id": "l4sVQa8ZYmY7"
      }
    },
    {
      "cell_type": "code",
      "source": [
        "#DIY\n",
        "\"\"\"\n",
        "def pipeline(review):\n",
        "    review = make_token(review)\n",
        "    review = ???(review)\n",
        "    return ???\n",
        "\"\"\""
      ],
      "metadata": {
        "id": "k4gGcgElk2IG",
        "colab": {
          "base_uri": "https://localhost:8080/",
          "height": 35
        },
        "outputId": "0f432e2a-4200-4980-f63a-3514c98d5d7a"
      },
      "execution_count": 36,
      "outputs": [
        {
          "output_type": "execute_result",
          "data": {
            "text/plain": [
              "'\\ndef pipeline(review):\\n    review = make_token(review)\\n    review = ???(review)\\n    return ???\\n'"
            ],
            "application/vnd.google.colaboratory.intrinsic+json": {
              "type": "string"
            }
          },
          "metadata": {},
          "execution_count": 36
        }
      ]
    },
    {
      "cell_type": "code",
      "execution_count": 37,
      "metadata": {
        "id": "IfIn_8s6Zm6k"
      },
      "outputs": [],
      "source": [
        "#SOLUTION\n",
        "def pipeline(review):\n",
        "    review = make_token(review)\n",
        "    review = remove_stopwords(review)\n",
        "    return lemmatization(review)"
      ]
    },
    {
      "cell_type": "code",
      "execution_count": 38,
      "metadata": {
        "colab": {
          "base_uri": "https://localhost:8080/"
        },
        "id": "tEs8kOsoZm6k",
        "outputId": "e9c80cbb-b1ab-43a3-b3ef-e0e0afead086"
      },
      "outputs": [
        {
          "output_type": "stream",
          "name": "stdout",
          "text": [
            "CPU times: user 8min 11s, sys: 1.48 s, total: 8min 12s\n",
            "Wall time: 8min 17s\n"
          ]
        }
      ],
      "source": [
        "%%time\n",
        "#reviews = list(map(lambda review: pipeline(review),reviews))\n",
        "reviews = [pipeline(review) for review in reviews]"
      ]
    },
    {
      "cell_type": "code",
      "execution_count": 40,
      "metadata": {
        "colab": {
          "base_uri": "https://localhost:8080/"
        },
        "id": "_FBYMSO3Zm6l",
        "outputId": "4dc48fc7-c58b-4d3a-9243-73dbcec8d24f"
      },
      "outputs": [
        {
          "output_type": "execute_result",
          "data": {
            "text/plain": [
              "[['reviewer',\n",
              "  'mention',\n",
              "  'watch',\n",
              "  '1',\n",
              "  'oz',\n",
              "  'episode',\n",
              "  'hook',\n",
              "  'right',\n",
              "  'exactly',\n",
              "  'happen',\n",
              "  'thing',\n",
              "  'strike',\n",
              "  'oz',\n",
              "  'brutality',\n",
              "  'unflinche',\n",
              "  'scene',\n",
              "  'violence',\n",
              "  'set',\n",
              "  'right',\n",
              "  'word',\n",
              "  'trust',\n",
              "  'not',\n",
              "  'faint',\n",
              "  'hearted',\n",
              "  'timid',\n",
              "  'pull',\n",
              "  'no',\n",
              "  'punch',\n",
              "  'regard',\n",
              "  'drug',\n",
              "  'sex',\n",
              "  'violence',\n",
              "  'hardcore',\n",
              "  'classic',\n",
              "  'use',\n",
              "  'word',\n",
              "  'call',\n",
              "  'oz',\n",
              "  'nickname',\n",
              "  'give',\n",
              "  'oswald',\n",
              "  'maximum',\n",
              "  'security',\n",
              "  'state',\n",
              "  'penitentary',\n",
              "  'focus',\n",
              "  'mainly',\n",
              "  'emerald',\n",
              "  'city',\n",
              "  'experimental',\n",
              "  'section',\n",
              "  'prison',\n",
              "  'cell',\n",
              "  'glass',\n",
              "  'front',\n",
              "  'face',\n",
              "  'inward',\n",
              "  'privacy',\n",
              "  'not',\n",
              "  'high',\n",
              "  'agenda',\n",
              "  'em',\n",
              "  'city',\n",
              "  'home',\n",
              "  'aryan',\n",
              "  'muslims',\n",
              "  'gangstas',\n",
              "  'latinos',\n",
              "  'christians',\n",
              "  'italian',\n",
              "  'irish',\n",
              "  'scuffle',\n",
              "  'death',\n",
              "  'stare',\n",
              "  'dodgy',\n",
              "  'dealing',\n",
              "  'shady',\n",
              "  'agreement',\n",
              "  'never',\n",
              "  'far',\n",
              "  'away',\n",
              "  'main',\n",
              "  'appeal',\n",
              "  'fact',\n",
              "  'go',\n",
              "  'show',\n",
              "  'would',\n",
              "  'not',\n",
              "  'dare',\n",
              "  'forget',\n",
              "  'pretty',\n",
              "  'picture',\n",
              "  'paint',\n",
              "  'mainstream',\n",
              "  'audience',\n",
              "  'forget',\n",
              "  'charm',\n",
              "  'forget',\n",
              "  'romance',\n",
              "  'oz',\n",
              "  'do',\n",
              "  'not',\n",
              "  'mess',\n",
              "  'episode',\n",
              "  'see',\n",
              "  'strike',\n",
              "  'nasty',\n",
              "  'surreal',\n",
              "  'could',\n",
              "  'not',\n",
              "  'ready',\n",
              "  'but',\n",
              "  'watch',\n",
              "  'develop',\n",
              "  'taste',\n",
              "  'oz',\n",
              "  'get',\n",
              "  'accustom',\n",
              "  'high',\n",
              "  'level',\n",
              "  'graphic',\n",
              "  'violence',\n",
              "  'not',\n",
              "  'violence',\n",
              "  'but',\n",
              "  'injustice',\n",
              "  'crook',\n",
              "  'guard',\n",
              "  'who',\n",
              "  'will',\n",
              "  'sell',\n",
              "  'nickel',\n",
              "  'inmate',\n",
              "  'who',\n",
              "  'will',\n",
              "  'kill',\n",
              "  'order',\n",
              "  'away',\n",
              "  'well',\n",
              "  'mannered',\n",
              "  'middle',\n",
              "  'class',\n",
              "  'inmate',\n",
              "  'turn',\n",
              "  'prison',\n",
              "  'bitch',\n",
              "  'lack',\n",
              "  'street',\n",
              "  'skill',\n",
              "  'prison',\n",
              "  'experience',\n",
              "  'watch',\n",
              "  'oz',\n",
              "  'comfortable',\n",
              "  'uncomfortable',\n",
              "  'viewing',\n",
              "  'that',\n",
              "  's',\n",
              "  'touch',\n",
              "  'darker'],\n",
              " ['wonderful',\n",
              "  'little',\n",
              "  'production',\n",
              "  'filming',\n",
              "  'technique',\n",
              "  'unassume',\n",
              "  'old',\n",
              "  'time',\n",
              "  'bbc',\n",
              "  'fashion',\n",
              "  'give',\n",
              "  'comfort',\n",
              "  'discomforting',\n",
              "  'sense',\n",
              "  'realism',\n",
              "  'entire',\n",
              "  'piece',\n",
              "  'actor',\n",
              "  'extremely',\n",
              "  'well',\n",
              "  'choose',\n",
              "  'michael',\n",
              "  'sheen',\n",
              "  'not',\n",
              "  'get',\n",
              "  'polari',\n",
              "  'but',\n",
              "  'voice',\n",
              "  'down',\n",
              "  'pat',\n",
              "  'too',\n",
              "  'truly',\n",
              "  'seamless',\n",
              "  'editing',\n",
              "  'guide',\n",
              "  'reference',\n",
              "  'williams',\n",
              "  'diary',\n",
              "  'entrie',\n",
              "  'not',\n",
              "  'well',\n",
              "  'worth',\n",
              "  'watch',\n",
              "  'but',\n",
              "  'terrificly',\n",
              "  'write',\n",
              "  'perform',\n",
              "  'piece',\n",
              "  'masterful',\n",
              "  'production',\n",
              "  'great',\n",
              "  'master',\n",
              "  \"'s\",\n",
              "  'comedy',\n",
              "  'life',\n",
              "  'realism',\n",
              "  'come',\n",
              "  'home',\n",
              "  'little',\n",
              "  'thing',\n",
              "  'fantasy',\n",
              "  'guard',\n",
              "  'use',\n",
              "  'traditional',\n",
              "  'dream',\n",
              "  'technique',\n",
              "  'remain',\n",
              "  'solid',\n",
              "  'disappear',\n",
              "  'play',\n",
              "  'knowledge',\n",
              "  'sense',\n",
              "  'particularly',\n",
              "  'scene',\n",
              "  'concern',\n",
              "  'orton',\n",
              "  'halliwell',\n",
              "  'set',\n",
              "  'particularly',\n",
              "  'flat',\n",
              "  'halliwell',\n",
              "  \"'s\",\n",
              "  'mural',\n",
              "  'decorate',\n",
              "  'surface',\n",
              "  'terribly',\n",
              "  'well',\n",
              "  'do']]"
            ]
          },
          "metadata": {},
          "execution_count": 40
        }
      ],
      "source": [
        "reviews[:2]"
      ]
    },
    {
      "cell_type": "markdown",
      "source": [
        "###Load GloVe Embeddings"
      ],
      "metadata": {
        "id": "iw7ZA-CDT0N0"
      }
    },
    {
      "cell_type": "code",
      "source": [
        "# Download GloVe embeddings (use wget or another method to download the embeddings)\n",
        "!wget http://nlp.stanford.edu/data/glove.6B.zip\n",
        "!unzip glove.6B.zip -d glove.6B\n",
        "\n",
        "import numpy as np\n",
        "\n",
        "# Load GloVe embeddings\n",
        "def load_glove_embeddings(file_path):\n",
        "    embeddings_index = {}\n",
        "    with open(file_path, encoding='utf-8') as f:\n",
        "        for line in f:\n",
        "            values = line.split()\n",
        "            word = values[0]\n",
        "            coefs = np.asarray(values[1:], dtype='float32')\n",
        "            embeddings_index[word] = coefs\n",
        "    return embeddings_index\n",
        "\n",
        "# Example: load 100-dimensional GloVe embeddings\n",
        "glove_file = 'glove.6B/glove.6B.100d.txt'\n",
        "embeddings_index = load_glove_embeddings(glove_file)\n",
        "\n",
        "print(f\"Loaded {len(embeddings_index)} word vectors.\")\n"
      ],
      "metadata": {
        "colab": {
          "base_uri": "https://localhost:8080/"
        },
        "id": "k4v46yOlCCeF",
        "outputId": "056af55d-f1d0-47a3-fd8b-2da56ad936a5"
      },
      "execution_count": 41,
      "outputs": [
        {
          "output_type": "stream",
          "name": "stdout",
          "text": [
            "--2024-06-29 18:28:38--  http://nlp.stanford.edu/data/glove.6B.zip\n",
            "Resolving nlp.stanford.edu (nlp.stanford.edu)... 171.64.67.140\n",
            "Connecting to nlp.stanford.edu (nlp.stanford.edu)|171.64.67.140|:80... connected.\n",
            "HTTP request sent, awaiting response... 302 Found\n",
            "Location: https://nlp.stanford.edu/data/glove.6B.zip [following]\n",
            "--2024-06-29 18:28:38--  https://nlp.stanford.edu/data/glove.6B.zip\n",
            "Connecting to nlp.stanford.edu (nlp.stanford.edu)|171.64.67.140|:443... connected.\n",
            "HTTP request sent, awaiting response... 301 Moved Permanently\n",
            "Location: https://downloads.cs.stanford.edu/nlp/data/glove.6B.zip [following]\n",
            "--2024-06-29 18:28:38--  https://downloads.cs.stanford.edu/nlp/data/glove.6B.zip\n",
            "Resolving downloads.cs.stanford.edu (downloads.cs.stanford.edu)... 171.64.64.22\n",
            "Connecting to downloads.cs.stanford.edu (downloads.cs.stanford.edu)|171.64.64.22|:443... connected.\n",
            "HTTP request sent, awaiting response... 200 OK\n",
            "Length: 862182613 (822M) [application/zip]\n",
            "Saving to: ‘glove.6B.zip’\n",
            "\n",
            "glove.6B.zip        100%[===================>] 822.24M  5.02MB/s    in 2m 39s  \n",
            "\n",
            "2024-06-29 18:31:17 (5.17 MB/s) - ‘glove.6B.zip’ saved [862182613/862182613]\n",
            "\n",
            "Archive:  glove.6B.zip\n",
            "  inflating: glove.6B/glove.6B.50d.txt  \n",
            "  inflating: glove.6B/glove.6B.100d.txt  \n",
            "  inflating: glove.6B/glove.6B.200d.txt  \n",
            "  inflating: glove.6B/glove.6B.300d.txt  \n",
            "Loaded 400000 word vectors.\n"
          ]
        }
      ]
    },
    {
      "cell_type": "markdown",
      "source": [
        "###Create word index and embedding matrix"
      ],
      "metadata": {
        "id": "Jpx7JB14T6fW"
      }
    },
    {
      "cell_type": "code",
      "source": [
        "# Assuming `word_index` is already defined as per your tokenized data\n",
        "word_index = {word: i for i, word in enumerate(set(word for review in reviews for word in review), 1)}\n",
        "\n",
        "# Define the embedding dimension (must match the GloVe dimension)\n",
        "embedding_dim = 100\n",
        "\n",
        "# Create the embedding matrix\n",
        "embedding_matrix = np.zeros((len(word_index) + 1, embedding_dim))\n",
        "for word, i in word_index.items():\n",
        "    embedding_vector = embeddings_index.get(word)\n",
        "    if embedding_vector is not None:\n",
        "        embedding_matrix[i] = embedding_vector\n",
        "\n",
        "# Verify the shape of the embedding matrix\n",
        "print(f\"Embedding matrix shape: {embedding_matrix.shape}\")\n"
      ],
      "metadata": {
        "colab": {
          "base_uri": "https://localhost:8080/"
        },
        "id": "rZ-oMTh6CDyW",
        "outputId": "3394a322-5e9f-435a-a008-3e35751c7807"
      },
      "execution_count": 42,
      "outputs": [
        {
          "output_type": "stream",
          "name": "stdout",
          "text": [
            "Embedding matrix shape: (66809, 100)\n"
          ]
        }
      ]
    },
    {
      "cell_type": "markdown",
      "source": [
        "##RNN classifier\n"
      ],
      "metadata": {
        "id": "8Wv6aosCY0D8"
      }
    },
    {
      "cell_type": "code",
      "source": [
        "import torch\n",
        "\n",
        "# Check if CUDA is available\n",
        "print(torch.cuda.is_available())\n",
        "\n",
        "import torch\n",
        "import torch.nn as nn\n",
        "import torch.optim as optim\n",
        "SEED = 2222\n",
        "\n",
        "torch.manual_seed(SEED)\n",
        "torch.cuda.manual_seed(SEED)\n",
        "# CUDA seed should be the same\n",
        "torch.backends.cudnn.deterministic = True"
      ],
      "metadata": {
        "colab": {
          "base_uri": "https://localhost:8080/"
        },
        "id": "OLAnTA0QFjpM",
        "outputId": "9e748062-c1ee-407d-c28e-75589ebf38c4"
      },
      "execution_count": 43,
      "outputs": [
        {
          "output_type": "stream",
          "name": "stdout",
          "text": [
            "True\n"
          ]
        }
      ]
    },
    {
      "cell_type": "code",
      "source": [
        "def word2idx(review, word_index):\n",
        "    index_review = [word_index[word] for word in review if word in word_index]\n",
        "    return torch.tensor(index_review, dtype=torch.long)\n",
        "\n",
        "index_reviews = [word2idx(review, word_index) for review in reviews]\n"
      ],
      "metadata": {
        "id": "XQeV51P1DRD9"
      },
      "execution_count": 44,
      "outputs": []
    },
    {
      "cell_type": "markdown",
      "source": [
        "## Recurrent Neural Networks (RNNs)\n",
        "\n",
        "Recurrent Neural Networks (RNNs) are a type of neural network specifically designed to identify patterns in sequential data, including time series, speech, text, and video. Unlike traditional feedforward neural networks, RNNs have cyclical connections that enable them to retain information from previous inputs. This feature makes RNNs exceptionally effective for tasks that require understanding context and processing information in a sequence.\n",
        "\n",
        "### Basic Structure of RNNs\n",
        "The image below depicts the structure of a Recurrent Neural Network (RNN) and its unfolding over time. On the left side, you see a basic RNN cell that processes an input $I$ to generate an output $O$. A distinctive feature of the RNN cell is the loop, showing that the output from the previous step is fed back into the current step as input. This feedback mechanism enables the network to maintain and utilize information across multiple time steps.\n",
        "\n",
        "### Working Mechanism\n",
        "The image below illustrates the structure of an RNN and its unfolding over time. The left side of the image shows a simple RNN cell, which processes an input $I$ to produce an output $O$. The key feature of the RNN cell is the loop, indicating that the output from the previous step is fed back as input to the current step. This feedback loop allows the network to retain information across multiple time steps.\n",
        "\n",
        "At each time step $t$, the RNN cell takes the current input $I_t$ and the hidden state from the previous time step $h_{t-1}$ to compute the current hidden state $h_t$. The hidden state $h_t$ is then used to produce the output $O_t$. Mathematically, this can be represented as:\n",
        "\n",
        "$ h_t = \\sigma(W \\cdot I_t + U \\cdot h_{t-1} + b) $\n",
        "\n",
        "$ O_t = V \\cdot h_t + c $\n",
        "\n",
        "where $W$, $U$, and $V$ are weight matrices, $b$ and $c$ are biases, and $\\sigma$ is the activation function.\n",
        "\n",
        "- **$W$**: This is the weight matrix that connects the input $I_t$ to the hidden state $h_t$. It determines how much influence the current input has on the hidden state.\n",
        "- **$U$**: This is the weight matrix that connects the hidden state from the previous time step $h_{t-1}$ to the current hidden state $h_t$. It defines how the previous hidden state influences the current hidden state.\n",
        "- **$V$**: This is the weight matrix that connects the current hidden state $h_t$ to the output $O_t$. It determines how the hidden state influences the output of the network.\n",
        "\n",
        "In summary, $W$, $U$, and $V$ are essential parameters in an RNN that control the transformation and influence of inputs, previous hidden states, and the hidden state on the output, respectively.\n",
        "\n",
        "\n",
        "\n",
        "\n",
        "\n",
        "![RNN_several_loops.png](data:image/png;base64,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)\n",
        "\n",
        "\n",
        "\n",
        "### Unfolding in Time\n",
        "To understand how RNNs process sequences, we can unfold the network across time, as shown on the right side of the image. Each RNN cell in the unfolded network represents the same RNN cell at different time steps. The input at each time step is denoted by \\( I \\), and the corresponding output is denoted by \\( O \\). This unfolding demonstrates how information is passed through the network from one time step to the next.\n",
        "\n",
        "\n",
        "\n",
        "### Benefits and Challenges\n",
        "The primary advantage of RNNs is their ability to model temporal dependencies and sequential information. This makes them suitable for various applications such as language modeling, speech recognition, and time series prediction.\n",
        "\n",
        "However, RNNs also face challenges such as the vanishing gradient problem, where gradients can become very small, making it difficult to train the network effectively for long sequences. Variants of RNNs, like Long Short-Term Memory (LSTM) networks and Gated Recurrent Units (GRUs), have been developed to address these issues by incorporating mechanisms to preserve gradients and maintain long-term dependencies.\n",
        "\n",
        "In summary, RNNs are powerful tools for sequence modeling, leveraging their recurrent connections to process and remember information across time steps. Their unfolding in time demonstrates how they handle sequential data, making them essential in tasks where the order and context of data points are crucial.\n",
        "\n"
      ],
      "metadata": {
        "id": "cxCeci50YhUG"
      }
    },
    {
      "cell_type": "markdown",
      "source": [
        "### Recurrent Neural Network (RNN) class for processing sequences of text data in PyTorch"
      ],
      "metadata": {
        "id": "liX3MV-ZaOGG"
      }
    },
    {
      "cell_type": "markdown",
      "source": [
        "Next code block defines a recurrent neural network (RNN) using PyTorch, structured to handle sequences of text data:\n",
        "\n",
        "- **Class Definition**: The `RNN` class extends `nn.Module` and is designed to perform sequence processing. It initializes with an embedding layer, an RNN layer, and a fully connected layer:\n",
        "  - `Embedding Layer`: Transforms input indices into dense vectors of a specified size using pre-trained embeddings.\n",
        "  - `RNN Layer`: Processes the sequence of embeddings using a hidden state of specified dimension.\n",
        "  - `Fully Connected Layer`: Maps the hidden state of the RNN to the desired output dimension.\n",
        "\n",
        "- **Forward Pass**:\n",
        "  - Inputs are first transformed by the embedding layer.\n",
        "  - The embedded sequences are then packed according to their lengths to handle variable-sized inputs efficiently.\n",
        "  - The packed embeddings are processed by the RNN to produce outputs and a final hidden state.\n",
        "  - The outputs are unpacked and the last hidden state is passed through the fully connected layer to produce the final model outputs.\n",
        "\n",
        "- **Model Initialization**:\n",
        "  - The model is instantiated with specific dimensions for input, embedding, hidden state, and output, along with pre-trained embedding weights.\n",
        "\n",
        "This setup is typical for tasks like text classification, where each input sequence (e.g., a sentence or a document) is processed as a whole to predict a single output (e.g., sentiment).\n"
      ],
      "metadata": {
        "id": "a1L-egvwa1oB"
      }
    },
    {
      "cell_type": "code",
      "source": [
        "\n",
        "\n",
        "# Define the embedding matrix as a tensor\n",
        "embedding_weights = torch.tensor(embedding_matrix, dtype=torch.float)\n",
        "\n",
        "# RNN Class with one hidden layer: DEFAULT\n",
        "class RNN(nn.Module):\n",
        "    def __init__(self, input_dim, embedding_dim, hidden_dim, output_dim, embedding_weights):\n",
        "        super().__init__()\n",
        "        # Embedding layer with pre-trained weights\n",
        "        self.embedding = nn.Embedding.from_pretrained(embedding_weights)\n",
        "        # RNN layer: processes sequences of embeddings using a hidden state\n",
        "        self.rnn = nn.RNN(embedding_dim, hidden_dim)\n",
        "        # Fully connected layer: maps the final hidden state to the output dimension\n",
        "        self.fc = nn.Linear(hidden_dim, output_dim)\n",
        "\n",
        "    def forward(self, x, text_lengths):\n",
        "        # x: [sentence length, batch size] - shape of input data\n",
        "        # Embedding layer transforms indices to embeddings: [sentence length, batch size, embedding dim]\n",
        "        embedded = self.embedding(x)\n",
        "        # Pack the sequence of embeddings based on actual sequence lengths\n",
        "        packed_embedded = nn.utils.rnn.pack_padded_sequence(embedded, text_lengths, enforce_sorted=False)\n",
        "        # RNN processes the packed sequence, returning packed output and the last hidden states\n",
        "        packed_output, hidden = self.rnn(packed_embedded)  # [sentence length, batch size, hidden dim], [1, batch size, hidden dim]\n",
        "        # Unpack the output to a normal sequence format\n",
        "        output, output_lengths = nn.utils.rnn.pad_packed_sequence(packed_output)\n",
        "        # Return the final output by passing the last hidden state through a fully connected layer\n",
        "        return self.fc(hidden.squeeze(0))\n",
        "\n",
        "# Parameters for the RNN model\n",
        "INPUT_DIM = len(word_index) + 1  # Usually the size of the vocabulary\n",
        "EMBEDDING_DIM = embedding_dim  # Dimensionality of the embedding space\n",
        "HIDDEN_DIM = 256  # Number of units in the hidden layer of the RNN\n",
        "OUTPUT_DIM = 1  # The dimensionality of the output space\n",
        "\n",
        "# Initialize the RNN model with specified dimensions and pre-trained embedding weights\n",
        "model = RNN(INPUT_DIM, EMBEDDING_DIM, HIDDEN_DIM, OUTPUT_DIM, embedding_weights)\n",
        "\n",
        "# Example review processing\n",
        "index_reviews = [word2idx(review, word_index) for review in reviews]\n",
        "#print(index_reviews)\n"
      ],
      "metadata": {
        "id": "XIftGlA3DWEP"
      },
      "execution_count": 45,
      "outputs": []
    },
    {
      "cell_type": "code",
      "source": [],
      "metadata": {
        "id": "vgj4F_sRInG4"
      },
      "execution_count": null,
      "outputs": []
    },
    {
      "cell_type": "code",
      "source": [
        "model"
      ],
      "metadata": {
        "id": "Xcsy6rJUls2S",
        "colab": {
          "base_uri": "https://localhost:8080/"
        },
        "outputId": "a34bee60-98cb-4777-9fed-3d76ba1ca26d"
      },
      "execution_count": 46,
      "outputs": [
        {
          "output_type": "execute_result",
          "data": {
            "text/plain": [
              "RNN(\n",
              "  (embedding): Embedding(66809, 100)\n",
              "  (rnn): RNN(100, 256)\n",
              "  (fc): Linear(in_features=256, out_features=1, bias=True)\n",
              ")"
            ]
          },
          "metadata": {},
          "execution_count": 46
        }
      ]
    },
    {
      "cell_type": "markdown",
      "source": [
        "###Optimizer"
      ],
      "metadata": {
        "id": "tc7Cze0qcP8M"
      }
    },
    {
      "cell_type": "code",
      "source": [
        "# Initialize the optimizer to update the model's parameters. SGD (Stochastic Gradient Descent) is used here with a learning rate of 0.001.\n",
        "# This optimizer will adjust the parameters (weights and biases) of the 'model' based on the gradients computed during backpropagation.\n",
        "optimizer = optim.SGD(model.parameters(), lr=1e-3)\n"
      ],
      "metadata": {
        "id": "TKWJzKSCx7p3"
      },
      "execution_count": 47,
      "outputs": []
    },
    {
      "cell_type": "markdown",
      "source": [
        "###Loss function"
      ],
      "metadata": {
        "id": "Q8WvsMCacfDU"
      }
    },
    {
      "cell_type": "code",
      "source": [
        "# Initialize the loss function 'criterion' with Binary Cross-Entropy with Logits Loss.\n",
        "# This loss combines a sigmoid layer and the BCE loss in one single class, which makes it more numerically stable than using a plain Sigmoid followed by a BCE loss.\n",
        "criterion = nn.BCEWithLogitsLoss()\n"
      ],
      "metadata": {
        "id": "Wuz9FIaJyAN4"
      },
      "execution_count": 48,
      "outputs": []
    },
    {
      "cell_type": "code",
      "source": [
        "# Determine if CUDA (GPU support) is available in PyTorch environment; if so, use 'cuda' to run on GPU,\n",
        "# otherwise fall back to 'cpu' for computation.\n",
        "# This ensures that the model and tensors are allocated to the GPU if available, for faster computation,\n",
        "# or to the CPU if a GPU is not accessible.\n",
        "device = torch.device('cuda' if torch.cuda.is_available() else 'cpu')\n",
        "\n"
      ],
      "metadata": {
        "id": "6f1M9fg2yEw7"
      },
      "execution_count": 49,
      "outputs": []
    },
    {
      "cell_type": "code",
      "source": [
        "device.type"
      ],
      "metadata": {
        "colab": {
          "base_uri": "https://localhost:8080/",
          "height": 35
        },
        "id": "kntXtLmmyIAW",
        "outputId": "9b77b9c1-1884-40b5-8654-a63273074aeb"
      },
      "execution_count": null,
      "outputs": [
        {
          "output_type": "execute_result",
          "data": {
            "text/plain": [
              "'cuda'"
            ],
            "application/vnd.google.colaboratory.intrinsic+json": {
              "type": "string"
            }
          },
          "metadata": {},
          "execution_count": 84
        }
      ]
    },
    {
      "cell_type": "markdown",
      "source": [
        "###Split data into train, development/validation set, test set"
      ],
      "metadata": {
        "id": "DCZmuXtXdF_t"
      }
    },
    {
      "cell_type": "code",
      "source": [
        "from sklearn.model_selection import train_test_split"
      ],
      "metadata": {
        "id": "TbFZW7yNyKmT"
      },
      "execution_count": 50,
      "outputs": []
    },
    {
      "cell_type": "code",
      "source": [
        "labels[:5]"
      ],
      "metadata": {
        "colab": {
          "base_uri": "https://localhost:8080/"
        },
        "id": "eV8Ykbcs1QV2",
        "outputId": "cbcb596d-e10c-446d-c079-36d865f4b2bf"
      },
      "execution_count": 51,
      "outputs": [
        {
          "output_type": "execute_result",
          "data": {
            "text/plain": [
              "['positive', 'positive', 'positive', 'negative', 'positive']"
            ]
          },
          "metadata": {},
          "execution_count": 51
        }
      ]
    },
    {
      "cell_type": "markdown",
      "source": [
        "Convert 'positive' labels to 1, 'negative' labels to 0, using a list comprehension"
      ],
      "metadata": {
        "id": "5ZTHMNKlmMZ8"
      }
    },
    {
      "cell_type": "code",
      "source": [
        "#DIY\n",
        "\"\"\"\n",
        "labels = [ ??? ]\n",
        "\"\"\""
      ],
      "metadata": {
        "id": "0QrFOAEdmbSU"
      },
      "execution_count": null,
      "outputs": []
    },
    {
      "cell_type": "code",
      "source": [
        "#SOLUTION\n",
        "labels = [0 if label == 'negative' else 1 for label in labels ]"
      ],
      "metadata": {
        "id": "ch1Wcl671SdU"
      },
      "execution_count": 52,
      "outputs": []
    },
    {
      "cell_type": "code",
      "source": [],
      "metadata": {
        "id": "gY8ai9sfmF3v"
      },
      "execution_count": null,
      "outputs": []
    },
    {
      "cell_type": "code",
      "source": [
        "labels[:5]"
      ],
      "metadata": {
        "colab": {
          "base_uri": "https://localhost:8080/"
        },
        "id": "RWbzllc31ZM1",
        "outputId": "5e66bff3-0d1e-4c35-a9b5-2bf14ae6c005"
      },
      "execution_count": 53,
      "outputs": [
        {
          "output_type": "execute_result",
          "data": {
            "text/plain": [
              "[1, 1, 1, 0, 1]"
            ]
          },
          "metadata": {},
          "execution_count": 53
        }
      ]
    },
    {
      "cell_type": "code",
      "source": [
        "#we only use the first 10000 labels, as we only use the first 10000 reviews\n",
        "#labels = labels[:10000]"
      ],
      "metadata": {
        "id": "MOleMU6f81Sg"
      },
      "execution_count": null,
      "outputs": []
    },
    {
      "cell_type": "code",
      "source": [
        "X_train, X_test, y_train, y_test = train_test_split(index_reviews, labels, test_size=0.2)"
      ],
      "metadata": {
        "id": "ZpUV8JHO1b1j"
      },
      "execution_count": 54,
      "outputs": []
    },
    {
      "cell_type": "code",
      "source": [
        "len(labels)"
      ],
      "metadata": {
        "colab": {
          "base_uri": "https://localhost:8080/"
        },
        "id": "KWlHNZTB8kjs",
        "outputId": "39f19ad3-5dde-480b-9dc5-da2321fbbd53"
      },
      "execution_count": 55,
      "outputs": [
        {
          "output_type": "execute_result",
          "data": {
            "text/plain": [
              "25000"
            ]
          },
          "metadata": {},
          "execution_count": 55
        }
      ]
    },
    {
      "cell_type": "code",
      "source": [
        "X_train, X_val, y_train, y_val = train_test_split(X_train, y_train, test_size=0.2)"
      ],
      "metadata": {
        "id": "22QWtSR11cyR"
      },
      "execution_count": 56,
      "outputs": []
    },
    {
      "cell_type": "code",
      "source": [
        "print(len(X_train),len(X_test),len(X_val))"
      ],
      "metadata": {
        "colab": {
          "base_uri": "https://localhost:8080/"
        },
        "id": "Vz1-wMJ81kDv",
        "outputId": "83a46999-6b6d-400f-cc59-3b3e1a241ecf"
      },
      "execution_count": 57,
      "outputs": [
        {
          "output_type": "stream",
          "name": "stdout",
          "text": [
            "16000 5000 4000\n"
          ]
        }
      ]
    },
    {
      "cell_type": "code",
      "source": [
        "print(len(y_train),len(y_test),len(y_val))"
      ],
      "metadata": {
        "colab": {
          "base_uri": "https://localhost:8080/"
        },
        "id": "hDZor7zp1mV8",
        "outputId": "da65e001-9460-45fb-8754-8b9203fc4d5f"
      },
      "execution_count": 58,
      "outputs": [
        {
          "output_type": "stream",
          "name": "stdout",
          "text": [
            "16000 5000 4000\n"
          ]
        }
      ]
    },
    {
      "cell_type": "code",
      "source": [
        "batch_size = 128\n",
        "import numpy as np"
      ],
      "metadata": {
        "id": "SAoP-QFI1pDI"
      },
      "execution_count": 59,
      "outputs": []
    },
    {
      "cell_type": "markdown",
      "source": [
        "###Iterator\n",
        "\n",
        "An iterator is an object that enables the sequential traversal of a data collection, such as arrays or lists, without exposing the underlying structure. It provides several benefits:\n",
        "\n",
        "- **Efficiency**: Iterators don't require all data to be loaded into memory, supporting lazy evaluation where elements are processed only as needed.\n",
        "- **Decoupling**: By separating the iteration mechanism from the data structures, iterators allow algorithms to be flexible and reusable across different types of collections.\n",
        "- **Control**: They offer methods to check for remaining elements and to retrieve each one, facilitating precise control over the iteration process.\n"
      ],
      "metadata": {
        "id": "Q8u1DShzdQIj"
      }
    },
    {
      "cell_type": "code",
      "source": [
        "def iterator_func(X, y):\n",
        "    # Calculate the total number of samples in the dataset.\n",
        "    size = len(X)\n",
        "    # Create a permutation of indices from 0 to size-1 in random order.\n",
        "    permutation = np.random.permutation(size)\n",
        "    # Initialize the iterator list to store batches of data.\n",
        "    iterator = []\n",
        "\n",
        "    # Loop through the data in steps of 'batch_size' to create batches.\n",
        "    for i in range(0, size, batch_size):\n",
        "        # Get the indices for the current batch based on the random permutation.\n",
        "        indices = permutation[i:i + batch_size]\n",
        "        # Initialize a dictionary to store the current batch's data.\n",
        "        batch = {}\n",
        "        # Select the text samples corresponding to the current batch indices.\n",
        "        batch[\"text\"] = [X[i] for i in indices]\n",
        "        # Select the labels corresponding to the current batch indices.\n",
        "        batch[\"label\"] = [y[i] for i in indices]\n",
        "\n",
        "        # Sort the batch by the length of text samples in descending order to facilitate efficient batching.\n",
        "        batch[\"text\"], batch[\"label\"] = zip(*sorted(zip(batch[\"text\"], batch[\"label\"]), key=lambda x: len(x[0]), reverse=True))\n",
        "        # Compute the length of each text sample in the batch.\n",
        "        batch[\"length\"] = [len(review) for review in batch[\"text\"]]\n",
        "        # Convert the lengths to a tensor of type IntTensor.\n",
        "        batch[\"length\"] = torch.IntTensor(batch[\"length\"])\n",
        "        # Pad the sequences in the batch so they all have the same length, transpose to match expected input dimensions.\n",
        "        batch[\"text\"] = torch.nn.utils.rnn.pad_sequence(batch[\"text\"], batch_first=True).t()\n",
        "        # Convert the label list to a tensor.\n",
        "        batch[\"label\"] = torch.Tensor(batch[\"label\"])\n",
        "\n",
        "        # Move the tensors to the appropriate device (GPU or CPU).\n",
        "        batch[\"label\"] = batch[\"label\"].to(device)\n",
        "        batch[\"length\"] = batch[\"length\"].to(device)\n",
        "        batch[\"text\"] = batch[\"text\"].to(device)\n",
        "\n",
        "        # Append the prepared batch to the iterator list.\n",
        "        iterator.append(batch)\n",
        "\n",
        "    # Return the list of batches (iterator) that will be used for training or evaluation.\n",
        "    return iterator\n"
      ],
      "metadata": {
        "id": "8Gf0M1A_1sZ_"
      },
      "execution_count": 60,
      "outputs": []
    },
    {
      "cell_type": "code",
      "source": [
        "train_iterator = iterator_func(X_train,y_train)\n",
        "valid_iterator = iterator_func(X_val,y_val)\n",
        "test_iterator = iterator_func(X_test,y_test)"
      ],
      "metadata": {
        "id": "G-m1zs0g1w85"
      },
      "execution_count": 61,
      "outputs": []
    },
    {
      "cell_type": "code",
      "source": [
        "print(len(train_iterator),len(test_iterator),len(valid_iterator))"
      ],
      "metadata": {
        "colab": {
          "base_uri": "https://localhost:8080/"
        },
        "id": "yjLpbIg219OY",
        "outputId": "4671c90d-f056-49b2-b6ab-5f459001baad"
      },
      "execution_count": 62,
      "outputs": [
        {
          "output_type": "stream",
          "name": "stdout",
          "text": [
            "125 40 32\n"
          ]
        }
      ]
    },
    {
      "cell_type": "markdown",
      "source": [
        "###Train and evaluate the model"
      ],
      "metadata": {
        "id": "Vo0yOKU2eWz9"
      }
    },
    {
      "cell_type": "code",
      "source": [
        "model = model.to(device)\n",
        "criterion = criterion.to(device)"
      ],
      "metadata": {
        "id": "OEo0Hzuv2GYW"
      },
      "execution_count": 63,
      "outputs": []
    },
    {
      "cell_type": "code",
      "source": [
        "def binary_accuracy(preds, y):\n",
        "    # Apply sigmoid activation to predictions to map them to a [0,1] range.\n",
        "    rounded_preds = torch.round(torch.sigmoid(preds))\n",
        "    # Compare the rounded predictions to the actual labels to determine correctness.\n",
        "    correct = (rounded_preds == y).float()  # Convert the boolean values to floats (True becomes 1.0, False becomes 0.0)\n",
        "    # Calculate the accuracy as the ratio of correct predictions to the total number of predictions.\n",
        "    acc = correct.sum() / len(correct)\n",
        "    # Return the accuracy, which is a single number between 0 and 1.\n",
        "    return acc\n"
      ],
      "metadata": {
        "id": "zL4Iu0Mr2JNQ"
      },
      "execution_count": 64,
      "outputs": []
    },
    {
      "cell_type": "code",
      "source": [
        "def train(model, iterator, optimizer, criterion):\n",
        "    epoch_loss = 0\n",
        "    epoch_acc = 0\n",
        "    model.train()\n",
        "\n",
        "    for batch in iterator:\n",
        "        optimizer.zero_grad()\n",
        "\n",
        "        # Convert input text to LongTensor and lengths to appropriate type\n",
        "        text = batch[\"text\"].long()\n",
        "        length = batch[\"length\"].cpu().long()  # Ensure lengths are on CPU and of type LongTensor\n",
        "\n",
        "        predictions = model(text, length).squeeze(1)\n",
        "        loss = criterion(predictions, batch[\"label\"])\n",
        "        acc = binary_accuracy(predictions, batch[\"label\"])\n",
        "\n",
        "        loss.backward()\n",
        "        optimizer.step()\n",
        "\n",
        "        epoch_loss += loss.item()\n",
        "        epoch_acc += acc.item()\n",
        "\n",
        "    return epoch_loss / len(iterator), epoch_acc / len(iterator)\n",
        "\n",
        "\n"
      ],
      "metadata": {
        "id": "CWdNjQYL32zu"
      },
      "execution_count": 65,
      "outputs": []
    },
    {
      "cell_type": "code",
      "source": [
        "def evaluate(model, iterator, criterion):\n",
        "    epoch_loss = 0\n",
        "    epoch_acc = 0\n",
        "    model.eval()\n",
        "\n",
        "    with torch.no_grad():\n",
        "        for batch in iterator:\n",
        "            # Convert input text to LongTensor and lengths to appropriate type\n",
        "            text = batch[\"text\"].long()\n",
        "            length = batch[\"length\"].cpu().long()  # Ensure lengths are on CPU and of type LongTensor\n",
        "\n",
        "            predictions = model(text, length).squeeze(1)\n",
        "            loss = criterion(predictions, batch[\"label\"])\n",
        "            acc = binary_accuracy(predictions, batch[\"label\"])\n",
        "\n",
        "            epoch_loss += loss.item()\n",
        "            epoch_acc += acc.item()\n",
        "\n",
        "    return epoch_loss / len(iterator), epoch_acc / len(iterator)\n",
        "\n"
      ],
      "metadata": {
        "id": "jn1C7UpY4Ufr"
      },
      "execution_count": 66,
      "outputs": []
    },
    {
      "cell_type": "code",
      "source": [
        "#N_EPOCHS = 100 # for 3 hidden layers\n",
        "N_EPOCHS = 40 # for 1 hidden layers"
      ],
      "metadata": {
        "id": "G-y-8dz32R1V"
      },
      "execution_count": 67,
      "outputs": []
    },
    {
      "cell_type": "code",
      "source": [
        "# Initialize lists to store loss and accuracy\n",
        "train_losses = []\n",
        "valid_losses = []\n",
        "train_accuracies = []\n",
        "valid_accuracies = []\n",
        "\n",
        "# Training loop\n",
        "for epoch in range(N_EPOCHS):\n",
        "    train_loss, train_acc = train(model, train_iterator, optimizer, criterion)\n",
        "    valid_loss, valid_acc = evaluate(model, valid_iterator, criterion)\n",
        "\n",
        "    # Store the results\n",
        "    train_losses.append(train_loss)\n",
        "    valid_losses.append(valid_loss)\n",
        "    train_accuracies.append(train_acc)\n",
        "    valid_accuracies.append(valid_acc)\n",
        "\n",
        "    print(f'Epoch: {epoch+1:02}')\n",
        "    print(f'\\tTrain Loss: {train_loss:.3f} | Train Acc: {train_acc*100:.2f}%')\n",
        "    print(f'\\t Val. Loss: {valid_loss:.3f} |  Val. Acc: {valid_acc*100:.2f}%')"
      ],
      "metadata": {
        "id": "SSPSYjAUjNcW",
        "colab": {
          "base_uri": "https://localhost:8080/"
        },
        "outputId": "5ccb9252-da53-4877-b268-5be01808351c"
      },
      "execution_count": 68,
      "outputs": [
        {
          "output_type": "stream",
          "name": "stdout",
          "text": [
            "Epoch: 01\n",
            "\tTrain Loss: 0.696 | Train Acc: 50.32%\n",
            "\t Val. Loss: 0.697 |  Val. Acc: 49.44%\n",
            "Epoch: 02\n",
            "\tTrain Loss: 0.695 | Train Acc: 50.64%\n",
            "\t Val. Loss: 0.695 |  Val. Acc: 49.78%\n",
            "Epoch: 03\n",
            "\tTrain Loss: 0.693 | Train Acc: 51.14%\n",
            "\t Val. Loss: 0.694 |  Val. Acc: 50.49%\n",
            "Epoch: 04\n",
            "\tTrain Loss: 0.692 | Train Acc: 51.80%\n",
            "\t Val. Loss: 0.693 |  Val. Acc: 51.32%\n",
            "Epoch: 05\n",
            "\tTrain Loss: 0.691 | Train Acc: 52.12%\n",
            "\t Val. Loss: 0.692 |  Val. Acc: 52.22%\n",
            "Epoch: 06\n",
            "\tTrain Loss: 0.690 | Train Acc: 52.79%\n",
            "\t Val. Loss: 0.691 |  Val. Acc: 52.81%\n",
            "Epoch: 07\n",
            "\tTrain Loss: 0.690 | Train Acc: 53.52%\n",
            "\t Val. Loss: 0.690 |  Val. Acc: 53.03%\n",
            "Epoch: 08\n",
            "\tTrain Loss: 0.689 | Train Acc: 54.16%\n",
            "\t Val. Loss: 0.689 |  Val. Acc: 53.69%\n",
            "Epoch: 09\n",
            "\tTrain Loss: 0.688 | Train Acc: 54.76%\n",
            "\t Val. Loss: 0.688 |  Val. Acc: 54.66%\n",
            "Epoch: 10\n",
            "\tTrain Loss: 0.687 | Train Acc: 55.25%\n",
            "\t Val. Loss: 0.688 |  Val. Acc: 55.49%\n",
            "Epoch: 11\n",
            "\tTrain Loss: 0.686 | Train Acc: 55.99%\n",
            "\t Val. Loss: 0.687 |  Val. Acc: 56.74%\n",
            "Epoch: 12\n",
            "\tTrain Loss: 0.685 | Train Acc: 56.66%\n",
            "\t Val. Loss: 0.686 |  Val. Acc: 57.37%\n",
            "Epoch: 13\n",
            "\tTrain Loss: 0.685 | Train Acc: 57.38%\n",
            "\t Val. Loss: 0.685 |  Val. Acc: 57.50%\n",
            "Epoch: 14\n",
            "\tTrain Loss: 0.684 | Train Acc: 57.95%\n",
            "\t Val. Loss: 0.684 |  Val. Acc: 58.76%\n",
            "Epoch: 15\n",
            "\tTrain Loss: 0.683 | Train Acc: 58.67%\n",
            "\t Val. Loss: 0.683 |  Val. Acc: 59.40%\n",
            "Epoch: 16\n",
            "\tTrain Loss: 0.682 | Train Acc: 59.24%\n",
            "\t Val. Loss: 0.682 |  Val. Acc: 59.55%\n",
            "Epoch: 17\n",
            "\tTrain Loss: 0.681 | Train Acc: 59.64%\n",
            "\t Val. Loss: 0.681 |  Val. Acc: 60.08%\n",
            "Epoch: 18\n",
            "\tTrain Loss: 0.681 | Train Acc: 59.84%\n",
            "\t Val. Loss: 0.681 |  Val. Acc: 60.57%\n",
            "Epoch: 19\n",
            "\tTrain Loss: 0.680 | Train Acc: 60.23%\n",
            "\t Val. Loss: 0.680 |  Val. Acc: 60.79%\n",
            "Epoch: 20\n",
            "\tTrain Loss: 0.679 | Train Acc: 60.51%\n",
            "\t Val. Loss: 0.679 |  Val. Acc: 61.28%\n",
            "Epoch: 21\n",
            "\tTrain Loss: 0.678 | Train Acc: 60.77%\n",
            "\t Val. Loss: 0.678 |  Val. Acc: 61.65%\n",
            "Epoch: 22\n",
            "\tTrain Loss: 0.677 | Train Acc: 61.02%\n",
            "\t Val. Loss: 0.677 |  Val. Acc: 62.06%\n",
            "Epoch: 23\n",
            "\tTrain Loss: 0.676 | Train Acc: 61.17%\n",
            "\t Val. Loss: 0.676 |  Val. Acc: 62.43%\n",
            "Epoch: 24\n",
            "\tTrain Loss: 0.675 | Train Acc: 61.34%\n",
            "\t Val. Loss: 0.675 |  Val. Acc: 62.33%\n",
            "Epoch: 25\n",
            "\tTrain Loss: 0.674 | Train Acc: 61.58%\n",
            "\t Val. Loss: 0.674 |  Val. Acc: 62.62%\n",
            "Epoch: 26\n",
            "\tTrain Loss: 0.673 | Train Acc: 61.96%\n",
            "\t Val. Loss: 0.673 |  Val. Acc: 63.01%\n",
            "Epoch: 27\n",
            "\tTrain Loss: 0.673 | Train Acc: 62.11%\n",
            "\t Val. Loss: 0.672 |  Val. Acc: 63.23%\n",
            "Epoch: 28\n",
            "\tTrain Loss: 0.672 | Train Acc: 62.46%\n",
            "\t Val. Loss: 0.671 |  Val. Acc: 63.38%\n",
            "Epoch: 29\n",
            "\tTrain Loss: 0.671 | Train Acc: 62.58%\n",
            "\t Val. Loss: 0.670 |  Val. Acc: 63.79%\n",
            "Epoch: 30\n",
            "\tTrain Loss: 0.669 | Train Acc: 62.72%\n",
            "\t Val. Loss: 0.668 |  Val. Acc: 64.28%\n",
            "Epoch: 31\n",
            "\tTrain Loss: 0.668 | Train Acc: 62.86%\n",
            "\t Val. Loss: 0.667 |  Val. Acc: 64.23%\n",
            "Epoch: 32\n",
            "\tTrain Loss: 0.667 | Train Acc: 62.95%\n",
            "\t Val. Loss: 0.666 |  Val. Acc: 64.14%\n",
            "Epoch: 33\n",
            "\tTrain Loss: 0.666 | Train Acc: 63.22%\n",
            "\t Val. Loss: 0.665 |  Val. Acc: 64.40%\n",
            "Epoch: 34\n",
            "\tTrain Loss: 0.665 | Train Acc: 63.44%\n",
            "\t Val. Loss: 0.663 |  Val. Acc: 64.55%\n",
            "Epoch: 35\n",
            "\tTrain Loss: 0.664 | Train Acc: 63.59%\n",
            "\t Val. Loss: 0.662 |  Val. Acc: 64.82%\n",
            "Epoch: 36\n",
            "\tTrain Loss: 0.662 | Train Acc: 63.81%\n",
            "\t Val. Loss: 0.660 |  Val. Acc: 64.77%\n",
            "Epoch: 37\n",
            "\tTrain Loss: 0.661 | Train Acc: 64.02%\n",
            "\t Val. Loss: 0.659 |  Val. Acc: 64.97%\n",
            "Epoch: 38\n",
            "\tTrain Loss: 0.659 | Train Acc: 64.14%\n",
            "\t Val. Loss: 0.657 |  Val. Acc: 65.36%\n",
            "Epoch: 39\n",
            "\tTrain Loss: 0.658 | Train Acc: 64.34%\n",
            "\t Val. Loss: 0.655 |  Val. Acc: 65.50%\n",
            "Epoch: 40\n",
            "\tTrain Loss: 0.656 | Train Acc: 64.54%\n",
            "\t Val. Loss: 0.653 |  Val. Acc: 65.72%\n"
          ]
        }
      ]
    },
    {
      "cell_type": "code",
      "source": [],
      "metadata": {
        "id": "DWznt7wOjRKk"
      },
      "execution_count": null,
      "outputs": []
    },
    {
      "cell_type": "code",
      "source": [
        "#train and validation loss over 50 epochs for model with 1 hidden layer"
      ],
      "metadata": {
        "id": "VqR9WTBOgheS"
      },
      "execution_count": null,
      "outputs": []
    },
    {
      "cell_type": "code",
      "source": [],
      "metadata": {
        "id": "USv6T2Z_gkNs"
      },
      "execution_count": null,
      "outputs": []
    },
    {
      "cell_type": "code",
      "source": [
        "#train and validation loss over 100 epochs for model with 3 hidden layers\n",
        "\n",
        "\n"
      ],
      "metadata": {
        "id": "Ghua2q5P-kpx"
      },
      "execution_count": null,
      "outputs": []
    },
    {
      "cell_type": "code",
      "source": [
        "import matplotlib.pyplot as plt\n",
        "\n",
        "# Plotting the loss and accuracy\n",
        "plt.figure(figsize=(12, 6))\n",
        "\n",
        "# Plot training and validation loss\n",
        "plt.subplot(1, 2, 1)\n",
        "plt.plot(range(1, N_EPOCHS + 1), train_losses, label='Train Loss')\n",
        "plt.plot(range(1, N_EPOCHS + 1), valid_losses, label='Validation Loss')\n",
        "plt.xlabel('Epochs')\n",
        "plt.ylabel('Loss')\n",
        "plt.title('Loss over Epochs')\n",
        "plt.legend()\n",
        "\n",
        "# Plot training and validation accuracy\n",
        "plt.subplot(1, 2, 2)\n",
        "plt.plot(range(1, N_EPOCHS + 1), train_accuracies, label='Train Accuracy')\n",
        "plt.plot(range(1, N_EPOCHS + 1), valid_accuracies, label='Validation Accuracy')\n",
        "plt.xlabel('Epochs')\n",
        "plt.ylabel('Accuracy')\n",
        "plt.title('Accuracy over Epochs')\n",
        "plt.legend()\n",
        "\n",
        "plt.tight_layout()\n",
        "plt.show()"
      ],
      "metadata": {
        "id": "UWk27AOOi34_",
        "colab": {
          "base_uri": "https://localhost:8080/",
          "height": 549
        },
        "outputId": "ed4eb350-fce5-456e-8e39-b7cd2c1bc846"
      },
      "execution_count": 69,
      "outputs": [
        {
          "output_type": "display_data",
          "data": {
            "text/plain": [
              "<Figure size 1200x600 with 2 Axes>"
            ],
            "image/png": "[encoded data removed]"
          },
          "metadata": {}
        }
      ]
    },
    {
      "cell_type": "code",
      "source": [],
      "metadata": {
        "id": "ZAIDLw8BjE-v"
      },
      "execution_count": null,
      "outputs": []
    },
    {
      "cell_type": "code",
      "source": [
        "##loss function with 1 hidden layers and 50 epochs"
      ],
      "metadata": {
        "id": "hjtWd6vegD5M"
      },
      "execution_count": null,
      "outputs": []
    },
    {
      "cell_type": "code",
      "source": [],
      "metadata": {
        "id": "kopJPc5ngMla"
      },
      "execution_count": null,
      "outputs": []
    },
    {
      "cell_type": "code",
      "source": [
        "##loss function with 3 hidden layers and 100 epochs"
      ],
      "metadata": {
        "id": "VwvEVpd9QcJE"
      },
      "execution_count": null,
      "outputs": []
    },
    {
      "cell_type": "code",
      "source": [
        "#loss function with 1 hidden layer"
      ],
      "metadata": {
        "id": "e3bS-EOBGIHF"
      },
      "execution_count": null,
      "outputs": []
    },
    {
      "cell_type": "markdown",
      "source": [
        "Complete print statement for loss and accuracy in the test set"
      ],
      "metadata": {
        "id": "J6LZntnBnVK3"
      }
    },
    {
      "cell_type": "code",
      "source": [
        "#DIY\n",
        "\"\"\"\n",
        "test_loss, test_acc = evaluate(model, test_iterator, criterion)\n",
        "\n",
        "print(???)\n",
        "\"\"\""
      ],
      "metadata": {
        "id": "uDM5y3opm-4W"
      },
      "execution_count": null,
      "outputs": []
    },
    {
      "cell_type": "code",
      "source": [
        "#SOLUTION\n",
        "\n",
        "test_loss, test_acc = evaluate(model, test_iterator, criterion)\n",
        "\n",
        "print(f'| Test Loss: {test_loss:.3f} | Test Acc: {test_acc*100:.2f}% |')\n"
      ],
      "metadata": {
        "id": "1odQUwMTidJ9",
        "colab": {
          "base_uri": "https://localhost:8080/"
        },
        "outputId": "0ec3f02b-3edb-44fd-b5bb-b5312192d375"
      },
      "execution_count": 70,
      "outputs": [
        {
          "output_type": "stream",
          "name": "stdout",
          "text": [
            "| Test Loss: 0.656 | Test Acc: 64.04% |\n"
          ]
        }
      ]
    },
    {
      "cell_type": "code",
      "source": [],
      "metadata": {
        "id": "oSnneLzki0Hs"
      },
      "execution_count": null,
      "outputs": []
    },
    {
      "cell_type": "code",
      "source": [
        "#test results 1 hidden layer 50 epochs"
      ],
      "metadata": {
        "id": "xCXNb-SXQZ2H"
      },
      "execution_count": null,
      "outputs": []
    },
    {
      "cell_type": "code",
      "source": [
        "#test results 3 hidden layers 100 epochs"
      ],
      "metadata": {
        "id": "ZlzSQI0xQT9f"
      },
      "execution_count": null,
      "outputs": []
    },
    {
      "cell_type": "code",
      "source": [],
      "metadata": {
        "id": "Djvc2M0mHjmp"
      },
      "execution_count": null,
      "outputs": []
    }
  ],
  "metadata": {
    "kernelspec": {
      "display_name": "Python 3",
      "name": "python3"
    },
    "language_info": {
      "codemirror_mode": {
        "name": "ipython",
        "version": 3
      },
      "file_extension": ".py",
      "mimetype": "text/x-python",
      "name": "python",
      "nbconvert_exporter": "python",
      "pygments_lexer": "ipython3",
      "version": "3.6.6"
    },
    "colab": {
      "provenance": [],
      "gpuType": "T4"
    },
    "accelerator": "GPU"
  },
  "nbformat": 4,
  "nbformat_minor": 0
}